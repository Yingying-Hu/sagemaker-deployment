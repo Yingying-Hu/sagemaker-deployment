{
 "cells": [
  {
   "cell_type": "markdown",
   "metadata": {},
   "source": [
    "# Sentiment Analysis\n",
    "\n",
    "## Using XGBoost in SageMaker\n",
    "\n",
    "_Deep Learning Nanodegree Program | Deployment_\n",
    "\n",
    "---\n",
    "\n",
    "In this example of using Amazon's SageMaker service we will construct a random tree model to predict the sentiment of a movie review. You may have seen a version of this example in a pervious lesson although it would have been done using the sklearn package. Instead, we will be using the XGBoost package as it is provided to us by Amazon.\n",
    "\n",
    "## Instructions\n",
    "\n",
    "Some template code has already been provided for you, and you will need to implement additional functionality to successfully complete this notebook. You will not need to modify the included code beyond what is requested. Sections that begin with '**TODO**' in the header indicate that you need to complete or implement some portion within them. Instructions will be provided for each section and the specifics of the implementation are marked in the code block with a `# TODO: ...` comment. Please be sure to read the instructions carefully!\n",
    "\n",
    "In addition to implementing code, there will be questions for you to answer which relate to the task and your implementation. Each section where you will answer a question is preceded by a '**Question:**' header. Carefully read each question and provide your answer below the '**Answer:**' header by editing the Markdown cell.\n",
    "\n",
    "> **Note**: Code and Markdown cells can be executed using the **Shift+Enter** keyboard shortcut. In addition, a cell can be edited by typically clicking it (double-click for Markdown cells) or by pressing **Enter** while it is highlighted."
   ]
  },
  {
   "cell_type": "markdown",
   "metadata": {},
   "source": [
    "## Step 1: Downloading the data\n",
    "\n",
    "The dataset we are going to use is very popular among researchers in Natural Language Processing, usually referred to as the [IMDb dataset](http://ai.stanford.edu/~amaas/data/sentiment/). It consists of movie reviews from the website [imdb.com](http://www.imdb.com/), each labeled as either '**pos**itive', if the reviewer enjoyed the film, or '**neg**ative' otherwise.\n",
    "\n",
    "> Maas, Andrew L., et al. [Learning Word Vectors for Sentiment Analysis](http://ai.stanford.edu/~amaas/data/sentiment/). In _Proceedings of the 49th Annual Meeting of the Association for Computational Linguistics: Human Language Technologies_. Association for Computational Linguistics, 2011.\n",
    "\n",
    "We begin by using some Jupyter Notebook magic to download and extract the dataset."
   ]
  },
  {
   "cell_type": "code",
   "execution_count": 1,
   "metadata": {},
   "outputs": [
    {
     "name": "stdout",
     "output_type": "stream",
     "text": [
      "--2020-08-31 18:50:07--  http://ai.stanford.edu/~amaas/data/sentiment/aclImdb_v1.tar.gz\n",
      "Resolving ai.stanford.edu (ai.stanford.edu)... 171.64.68.10\n",
      "Connecting to ai.stanford.edu (ai.stanford.edu)|171.64.68.10|:80... connected.\n",
      "HTTP request sent, awaiting response... 200 OK\n",
      "Length: 84125825 (80M) [application/x-gzip]\n",
      "Saving to: ‘../data/aclImdb_v1.tar.gz’\n",
      "\n",
      "../data/aclImdb_v1. 100%[===================>]  80.23M  33.9MB/s    in 2.4s    \n",
      "\n",
      "2020-08-31 18:50:10 (33.9 MB/s) - ‘../data/aclImdb_v1.tar.gz’ saved [84125825/84125825]\n",
      "\n"
     ]
    }
   ],
   "source": [
    "%mkdir ../data\n",
    "!wget -O ../data/aclImdb_v1.tar.gz http://ai.stanford.edu/~amaas/data/sentiment/aclImdb_v1.tar.gz\n",
    "!tar -zxf ../data/aclImdb_v1.tar.gz -C ../data"
   ]
  },
  {
   "cell_type": "markdown",
   "metadata": {},
   "source": [
    "## Step 2: Preparing the data\n",
    "\n",
    "The data we have downloaded is split into various files, each of which contains a single review. It will be much easier going forward if we combine these individual files into two large files, one for training and one for testing."
   ]
  },
  {
   "cell_type": "code",
   "execution_count": 2,
   "metadata": {},
   "outputs": [],
   "source": [
    "import os\n",
    "import glob\n",
    "\n",
    "def read_imdb_data(data_dir='../data/aclImdb'):\n",
    "    data = {}\n",
    "    labels = {}\n",
    "    \n",
    "    for data_type in ['train', 'test']:\n",
    "        data[data_type] = {}\n",
    "        labels[data_type] = {}\n",
    "        \n",
    "        for sentiment in ['pos', 'neg']:\n",
    "            data[data_type][sentiment] = []\n",
    "            labels[data_type][sentiment] = []\n",
    "            \n",
    "            path = os.path.join(data_dir, data_type, sentiment, '*.txt')\n",
    "            files = glob.glob(path)\n",
    "            \n",
    "            for f in files:\n",
    "                with open(f) as review:\n",
    "                    data[data_type][sentiment].append(review.read())\n",
    "                    # Here we represent a positive review by '1' and a negative review by '0'\n",
    "                    labels[data_type][sentiment].append(1 if sentiment == 'pos' else 0)\n",
    "                    \n",
    "            assert len(data[data_type][sentiment]) == len(labels[data_type][sentiment]), \\\n",
    "                    \"{}/{} data size does not match labels size\".format(data_type, sentiment)\n",
    "                \n",
    "    return data, labels"
   ]
  },
  {
   "cell_type": "code",
   "execution_count": 3,
   "metadata": {},
   "outputs": [
    {
     "name": "stdout",
     "output_type": "stream",
     "text": [
      "IMDB reviews: train = 12500 pos / 12500 neg, test = 12500 pos / 12500 neg\n"
     ]
    }
   ],
   "source": [
    "data, labels = read_imdb_data()\n",
    "print(\"IMDB reviews: train = {} pos / {} neg, test = {} pos / {} neg\".format(\n",
    "            len(data['train']['pos']), len(data['train']['neg']),\n",
    "            len(data['test']['pos']), len(data['test']['neg'])))"
   ]
  },
  {
   "cell_type": "code",
   "execution_count": 4,
   "metadata": {},
   "outputs": [],
   "source": [
    "from sklearn.utils import shuffle\n",
    "\n",
    "def prepare_imdb_data(data, labels):\n",
    "    \"\"\"Prepare training and test sets from IMDb movie reviews.\"\"\"\n",
    "    \n",
    "    #Combine positive and negative reviews and labels\n",
    "    data_train = data['train']['pos'] + data['train']['neg']\n",
    "    data_test = data['test']['pos'] + data['test']['neg']\n",
    "    labels_train = labels['train']['pos'] + labels['train']['neg']\n",
    "    labels_test = labels['test']['pos'] + labels['test']['neg']\n",
    "    \n",
    "    #Shuffle reviews and corresponding labels within training and test sets\n",
    "    data_train, labels_train = shuffle(data_train, labels_train)\n",
    "    data_test, labels_test = shuffle(data_test, labels_test)\n",
    "    \n",
    "    # Return a unified training data, test data, training labels, test labets\n",
    "    return data_train, data_test, labels_train, labels_test"
   ]
  },
  {
   "cell_type": "code",
   "execution_count": 5,
   "metadata": {},
   "outputs": [
    {
     "name": "stdout",
     "output_type": "stream",
     "text": [
      "IMDb reviews (combined): train = 25000, test = 25000\n"
     ]
    }
   ],
   "source": [
    "train_X, test_X, train_y, test_y = prepare_imdb_data(data, labels)\n",
    "print(\"IMDb reviews (combined): train = {}, test = {}\".format(len(train_X), len(test_X)))"
   ]
  },
  {
   "cell_type": "code",
   "execution_count": 6,
   "metadata": {},
   "outputs": [
    {
     "data": {
      "text/plain": [
       "'I love Jane Austen\\'s stories. I\\'ve only read two of them (P&P and S&S), but after having seen this adaption, I\\'m reaching for \"Persuasion\" from my bookcase just to make sense out of the story, and also, because I refusing to believe Jane Austen could have written such nonsense. For me, I thought that if you base a film on a Jane Austen novel, you can\\'t really go wrong. It will turn out great pretty much by default. I was wrong.<br /><br />First of all, where are the characters that you sympathise with and like? You have to have at least one likable character to get the audience to invest their emotions in them, and this did not deliver. Sure, I wanted Anne and Wentworth to get together, but only because that\\'s what you know the purpose of the story is, them getting together. Instead, I had to resist urges to throw my teacup at the TV and to continue watching it to the end.<br /><br />Anne was utterly annoying throughout, and in the end, I really have no idea why Wentworth was so smitten by her, as there seemed to be nothing there for him to be attracted to. She was meek, bland, dull, socially inadequate and came across like a sheep following everyone else\\'s instructions rather than having a mind of her own. This can still work for a lead character, if you do it well. This wasn\\'t done well.<br /><br />The other characters were just displaying various degrees of narcissism, of which Mary was the worst, with a full-blown narcissistic personality disorder. Where Mrs. Bennet in P&P had similar flaws, she was still endearing, whereas Mary was more of a freak-show. More loathsome than funny.<br /><br />Wentworth was very handsome and seemed like a decent kind of guy. For the most part of the story, I was just wondering what kind of person he was and why he\\'s in love with Anne, as surely, he\\'s the kind of guy who would want a person who is a little bit more... alive? Acting-wise, not too much to say, as I reacted more to the characters being portrayed rather than how good/bad the people acting were. Anthony Head was excellent, but as soon as I saw he was in it, I expected no less.<br /><br />Also found the story very confusing. It wasn\\'t until the end of the movie where it seemed as if Elizabeth was not Anne\\'s stepmother, but in fact a sister (I\\'m still not 100% on that). The whole Anne/Wentworth back story was also a bit fuzzy. They had been together but then broke up and they\\'re both bitter about it? How come? I was wondering this for quite some time, and the explanation seemed to be she dumped him because she was persuaded to do so by someone? But it was said in a kind of \"by the by\" way that it was almost missed, as if it was somehow unimportant. How can it be unimportant when it\\'s the very core of the story?? There was also a lot of name-dropping, but no real feel for who the characters were. This Louisa person for instance, who was she? A friend? Family? What? It wasn\\'t made very clear who the different characters are and their relationship with one another. Lady Russell was there a lot, but why? Mrs. Croft and Wentworth were brother and sister, which felt very unrealistic as Mrs. Croft looked old enough to be his mother.<br /><br />The final kiss, yes it was a bit strange them kissing in the street, but I didn\\'t really think about it, because I was too busy yelling \"GET ON WITH IT ALREADY!!\" at the TV, because Anne\\'s lips trembled and trembled and trembled for what felt like ages before they actually met Wentworth\\'s. Have SOME hesitation there, but only for a couple of seconds or so, not half a minute.<br /><br />Then there\\'s the issue of camera work. As a regular movie watcher, you don\\'t pay attention to angles and such unless you decide to look out for it. I didn\\'t decide to do so here, but I still noticed them. To me, that means the filmmakers are not doing a good job. A lot of conversations were with extreme facial closeups, something that should only be used when there\\'s a really important point to be made. In this adaption, it was over-used and therefore lacked meaning. The hand-held feeling on occasion also didn\\'t really work in a period drama. The camera work in the running scene in the end also felt too contemporary. (Not to mention the running itself.) This was the only Austen adaption I caught in ITV\\'s Austen season. Makes me wonder if it\\'s worth watching \"Northanger Abbey\" and \"Mansfield Park\" or if I should just read the books and leave it at that. I\\'m sad to say, this is a Jane Austen adaption I did not enjoy. Maybe I\\'ll watch the 1995 version instead. The BBC are renowned for having done beautiful Austen adaptations before, after all.'"
      ]
     },
     "execution_count": 6,
     "metadata": {},
     "output_type": "execute_result"
    }
   ],
   "source": [
    "train_X[100]"
   ]
  },
  {
   "cell_type": "markdown",
   "metadata": {},
   "source": [
    "## Step 3: Processing the data\n",
    "\n",
    "Now that we have our training and testing datasets merged and ready to use, we need to start processing the raw data into something that will be useable by our machine learning algorithm. To begin with, we remove any html formatting that may appear in the reviews and perform some standard natural language processing in order to homogenize the data."
   ]
  },
  {
   "cell_type": "code",
   "execution_count": 7,
   "metadata": {},
   "outputs": [
    {
     "name": "stderr",
     "output_type": "stream",
     "text": [
      "[nltk_data] Downloading package stopwords to\n",
      "[nltk_data]     /home/ec2-user/nltk_data...\n",
      "[nltk_data]   Unzipping corpora/stopwords.zip.\n"
     ]
    }
   ],
   "source": [
    "import nltk\n",
    "nltk.download(\"stopwords\")\n",
    "from nltk.corpus import stopwords\n",
    "from nltk.stem.porter import *\n",
    "stemmer = PorterStemmer()"
   ]
  },
  {
   "cell_type": "code",
   "execution_count": 8,
   "metadata": {},
   "outputs": [],
   "source": [
    "import re\n",
    "from bs4 import BeautifulSoup\n",
    "\n",
    "def review_to_words(review):\n",
    "    text = BeautifulSoup(review, \"html.parser\").get_text() # Remove HTML tags\n",
    "    text = re.sub(r\"[^a-zA-Z0-9]\", \" \", text.lower()) # Convert to lower case\n",
    "    words = text.split() # Split string into words\n",
    "    words = [w for w in words if w not in stopwords.words(\"english\")] # Remove stopwords\n",
    "    words = [PorterStemmer().stem(w) for w in words] # stem\n",
    "    \n",
    "    return words"
   ]
  },
  {
   "cell_type": "code",
   "execution_count": 9,
   "metadata": {},
   "outputs": [],
   "source": [
    "import pickle\n",
    "\n",
    "cache_dir = os.path.join(\"../cache\", \"sentiment_analysis\")  # where to store cache files\n",
    "os.makedirs(cache_dir, exist_ok=True)  # ensure cache directory exists\n",
    "\n",
    "def preprocess_data(data_train, data_test, labels_train, labels_test,\n",
    "                    cache_dir=cache_dir, cache_file=\"preprocessed_data.pkl\"):\n",
    "    \"\"\"Convert each review to words; read from cache if available.\"\"\"\n",
    "\n",
    "    # If cache_file is not None, try to read from it first\n",
    "    cache_data = None\n",
    "    if cache_file is not None:\n",
    "        try:\n",
    "            with open(os.path.join(cache_dir, cache_file), \"rb\") as f:\n",
    "                cache_data = pickle.load(f)\n",
    "            print(\"Read preprocessed data from cache file:\", cache_file)\n",
    "        except:\n",
    "            pass  # unable to read from cache, but that's okay\n",
    "    \n",
    "    # If cache is missing, then do the heavy lifting\n",
    "    if cache_data is None:\n",
    "        # Preprocess training and test data to obtain words for each review\n",
    "        #words_train = list(map(review_to_words, data_train))\n",
    "        #words_test = list(map(review_to_words, data_test))\n",
    "        words_train = [review_to_words(review) for review in data_train]\n",
    "        words_test = [review_to_words(review) for review in data_test]\n",
    "        \n",
    "        # Write to cache file for future runs\n",
    "        if cache_file is not None:\n",
    "            cache_data = dict(words_train=words_train, words_test=words_test,\n",
    "                              labels_train=labels_train, labels_test=labels_test)\n",
    "            with open(os.path.join(cache_dir, cache_file), \"wb\") as f:\n",
    "                pickle.dump(cache_data, f)\n",
    "            print(\"Wrote preprocessed data to cache file:\", cache_file)\n",
    "    else:\n",
    "        # Unpack data loaded from cache file\n",
    "        words_train, words_test, labels_train, labels_test = (cache_data['words_train'],\n",
    "                cache_data['words_test'], cache_data['labels_train'], cache_data['labels_test'])\n",
    "    \n",
    "    return words_train, words_test, labels_train, labels_test"
   ]
  },
  {
   "cell_type": "code",
   "execution_count": 10,
   "metadata": {},
   "outputs": [
    {
     "name": "stdout",
     "output_type": "stream",
     "text": [
      "Wrote preprocessed data to cache file: preprocessed_data.pkl\n"
     ]
    }
   ],
   "source": [
    "# Preprocess data\n",
    "train_X, test_X, train_y, test_y = preprocess_data(train_X, test_X, train_y, test_y)"
   ]
  },
  {
   "cell_type": "markdown",
   "metadata": {},
   "source": [
    "### Extract Bag-of-Words features\n",
    "\n",
    "For the model we will be implementing, rather than using the reviews directly, we are going to transform each review into a Bag-of-Words feature representation. Keep in mind that 'in the wild' we will only have access to the training set so our transformer can only use the training set to construct a representation."
   ]
  },
  {
   "cell_type": "code",
   "execution_count": 11,
   "metadata": {},
   "outputs": [],
   "source": [
    "import numpy as np\n",
    "from sklearn.feature_extraction.text import CountVectorizer\n",
    "import joblib\n",
    "# joblib is an enhanced version of pickle that is more efficient for storing NumPy arrays\n",
    "\n",
    "def extract_BoW_features(words_train, words_test, vocabulary_size=5000,\n",
    "                         cache_dir=cache_dir, cache_file=\"bow_features.pkl\"):\n",
    "    \"\"\"Extract Bag-of-Words for a given set of documents, already preprocessed into words.\"\"\"\n",
    "    \n",
    "    # If cache_file is not None, try to read from it first\n",
    "    cache_data = None\n",
    "    if cache_file is not None:\n",
    "        try:\n",
    "            with open(os.path.join(cache_dir, cache_file), \"rb\") as f:\n",
    "                cache_data = joblib.load(f)\n",
    "            print(\"Read features from cache file:\", cache_file)\n",
    "        except:\n",
    "            pass  # unable to read from cache, but that's okay\n",
    "    \n",
    "    # If cache is missing, then do the heavy lifting\n",
    "    if cache_data is None:\n",
    "        # Fit a vectorizer to training documents and use it to transform them\n",
    "        # NOTE: Training documents have already been preprocessed and tokenized into words;\n",
    "        #       pass in dummy functions to skip those steps, e.g. preprocessor=lambda x: x\n",
    "        vectorizer = CountVectorizer(max_features=vocabulary_size,\n",
    "                preprocessor=lambda x: x, tokenizer=lambda x: x)  # already preprocessed\n",
    "        features_train = vectorizer.fit_transform(words_train).toarray()\n",
    "\n",
    "        # Apply the same vectorizer to transform the test documents (ignore unknown words)\n",
    "        features_test = vectorizer.transform(words_test).toarray()\n",
    "        \n",
    "        # NOTE: Remember to convert the features using .toarray() for a compact representation\n",
    "        \n",
    "        # Write to cache file for future runs (store vocabulary as well)\n",
    "        if cache_file is not None:\n",
    "            vocabulary = vectorizer.vocabulary_\n",
    "            cache_data = dict(features_train=features_train, features_test=features_test,\n",
    "                             vocabulary=vocabulary)\n",
    "            with open(os.path.join(cache_dir, cache_file), \"wb\") as f:\n",
    "                joblib.dump(cache_data, f)\n",
    "            print(\"Wrote features to cache file:\", cache_file)\n",
    "    else:\n",
    "        # Unpack data loaded from cache file\n",
    "        features_train, features_test, vocabulary = (cache_data['features_train'],\n",
    "                cache_data['features_test'], cache_data['vocabulary'])\n",
    "    \n",
    "    # Return both the extracted features as well as the vocabulary\n",
    "    return features_train, features_test, vocabulary"
   ]
  },
  {
   "cell_type": "code",
   "execution_count": 12,
   "metadata": {},
   "outputs": [
    {
     "name": "stdout",
     "output_type": "stream",
     "text": [
      "Wrote features to cache file: bow_features.pkl\n"
     ]
    }
   ],
   "source": [
    "# Extract Bag of Words features for both training and test datasets\n",
    "train_X, test_X, vocabulary = extract_BoW_features(train_X, test_X)"
   ]
  },
  {
   "cell_type": "markdown",
   "metadata": {},
   "source": [
    "## Step 4: Classification using XGBoost\n",
    "\n",
    "Now that we have created the feature representation of our training (and testing) data, it is time to start setting up and using the XGBoost classifier provided by SageMaker.\n",
    "\n",
    "### Writing the dataset\n",
    "\n",
    "The XGBoost classifier that we will be using requires the dataset to be written to a file and stored using Amazon S3. To do this, we will start by splitting the training dataset into two parts, the data we will train the model with and a validation set. Then, we will write those datasets to a file and upload the files to S3. In addition, we will write the test set input to a file and upload the file to S3. This is so that we can use SageMakers Batch Transform functionality to test our model once we've fit it."
   ]
  },
  {
   "cell_type": "code",
   "execution_count": 13,
   "metadata": {},
   "outputs": [],
   "source": [
    "import pandas as pd\n",
    "\n",
    "val_X = pd.DataFrame(train_X[:10000])\n",
    "train_X = pd.DataFrame(train_X[10000:])\n",
    "\n",
    "val_y = pd.DataFrame(train_y[:10000])\n",
    "train_y = pd.DataFrame(train_y[10000:])\n",
    "\n",
    "test_y = pd.DataFrame(test_y)\n",
    "test_X = pd.DataFrame(test_X)"
   ]
  },
  {
   "cell_type": "markdown",
   "metadata": {},
   "source": [
    "The documentation for the XGBoost algorithm in SageMaker requires that the saved datasets should contain no headers or index and that for the training and validation data, the label should occur first for each sample.\n",
    "\n",
    "For more information about this and other algorithms, the SageMaker developer documentation can be found on __[Amazon's website.](https://docs.aws.amazon.com/sagemaker/latest/dg/)__"
   ]
  },
  {
   "cell_type": "code",
   "execution_count": 14,
   "metadata": {},
   "outputs": [],
   "source": [
    "# First we make sure that the local directory in which we'd like to store the training and validation csv files exists.\n",
    "data_dir = '../data/xgboost'\n",
    "if not os.path.exists(data_dir):\n",
    "    os.makedirs(data_dir)"
   ]
  },
  {
   "cell_type": "code",
   "execution_count": 15,
   "metadata": {},
   "outputs": [],
   "source": [
    "# First, save the test data to test.csv in the data_dir directory. Note that we do not save the associated ground truth\n",
    "# labels, instead we will use them later to compare with our model output.\n",
    "\n",
    "test_X.to_csv(os.path.join(data_dir, 'test.csv'), header=False, index=False)\n",
    "pd.concat([val_y, val_X], axis=1).to_csv(os.path.join(data_dir, 'validation.csv'), header=False, index=False)\n",
    "pd.concat([train_y, train_X], axis=1).to_csv(os.path.join(data_dir, 'train.csv'), header=False, index=False)"
   ]
  },
  {
   "cell_type": "code",
   "execution_count": 41,
   "metadata": {},
   "outputs": [],
   "source": [
    "# To save a bit of memory we can set text_X, train_X, val_X, train_y and val_y to None.\n",
    "\n",
    "train_X = val_X = train_y = val_y = None"
   ]
  },
  {
   "cell_type": "markdown",
   "metadata": {},
   "source": [
    "### Uploading Training / Validation files to S3\n",
    "\n",
    "Amazon's S3 service allows us to store files that can be access by both the built-in training models such as the XGBoost model we will be using as well as custom models such as the one we will see a little later.\n",
    "\n",
    "For this, and most other tasks we will be doing using SageMaker, there are two methods we could use. The first is to use the low level functionality of SageMaker which requires knowing each of the objects involved in the SageMaker environment. The second is to use the high level functionality in which certain choices have been made on the user's behalf. The low level approach benefits from allowing the user a great deal of flexibility while the high level approach makes development much quicker. For our purposes we will opt to use the high level approach although using the low-level approach is certainly an option.\n",
    "\n",
    "Recall the method `upload_data()` which is a member of object representing our current SageMaker session. What this method does is upload the data to the default bucket (which is created if it does not exist) into the path described by the key_prefix variable. To see this for yourself, once you have uploaded the data files, go to the S3 console and look to see where the files have been uploaded.\n",
    "\n",
    "For additional resources, see the __[SageMaker API documentation](http://sagemaker.readthedocs.io/en/latest/)__ and in addition the __[SageMaker Developer Guide.](https://docs.aws.amazon.com/sagemaker/latest/dg/)__"
   ]
  },
  {
   "cell_type": "code",
   "execution_count": 17,
   "metadata": {},
   "outputs": [],
   "source": [
    "import sagemaker\n",
    "\n",
    "session = sagemaker.Session() # Store the current SageMaker session\n",
    "\n",
    "# S3 prefix (which folder will we use)\n",
    "prefix = 'sentiment-xgboost'\n",
    "\n",
    "test_location = session.upload_data(os.path.join(data_dir, 'test.csv'), key_prefix=prefix)\n",
    "val_location = session.upload_data(os.path.join(data_dir, 'validation.csv'), key_prefix=prefix)\n",
    "train_location = session.upload_data(os.path.join(data_dir, 'train.csv'), key_prefix=prefix)"
   ]
  },
  {
   "cell_type": "markdown",
   "metadata": {},
   "source": [
    "### (TODO) Creating a hypertuned XGBoost model\n",
    "\n",
    "Now that the data has been uploaded it is time to create the XGBoost model. As in the Boston Housing notebook, the first step is to create an estimator object which will be used as the *base* of your hyperparameter tuning job."
   ]
  },
  {
   "cell_type": "code",
   "execution_count": 18,
   "metadata": {},
   "outputs": [],
   "source": [
    "from sagemaker import get_execution_role\n",
    "\n",
    "# Our current execution role is require when creating the model as the training\n",
    "# and inference code will need to access the model artifacts.\n",
    "role = get_execution_role()"
   ]
  },
  {
   "cell_type": "code",
   "execution_count": 19,
   "metadata": {},
   "outputs": [
    {
     "name": "stderr",
     "output_type": "stream",
     "text": [
      "'get_image_uri' method will be deprecated in favor of 'ImageURIProvider' class in SageMaker Python SDK v2.\n",
      "There is a more up to date SageMaker XGBoost image. To use the newer image, please set 'repo_version'='1.0-1'. For example:\n",
      "\tget_image_uri(region, 'xgboost', '1.0-1').\n"
     ]
    }
   ],
   "source": [
    "# We need to retrieve the location of the container which is provided by Amazon for using XGBoost.\n",
    "# As a matter of convenience, the training and inference code both use the same container.\n",
    "from sagemaker.amazon.amazon_estimator import get_image_uri\n",
    "\n",
    "container = get_image_uri(session.boto_region_name, 'xgboost')"
   ]
  },
  {
   "cell_type": "code",
   "execution_count": 28,
   "metadata": {},
   "outputs": [
    {
     "name": "stderr",
     "output_type": "stream",
     "text": [
      "Parameter image_name will be renamed to image_uri in SageMaker Python SDK v2.\n"
     ]
    }
   ],
   "source": [
    "# TODO: Create a SageMaker estimator using the container location determined in the previous cell.\n",
    "#       It is recommended that you use a single training instance of type ml.m4.xlarge. It is also\n",
    "#       recommended that you use 's3://{}/{}/output'.format(session.default_bucket(), prefix) as the\n",
    "#       output path.\n",
    "\n",
    "xgb = sagemaker.estimator.Estimator(container,\n",
    "                                   role,\n",
    "                                   train_instance_count=1,\n",
    "                                   train_instance_type='ml.m4.xlarge',\n",
    "                                   output_path='s3://{}/{}/output'.format(session.default_bucket(), prefix),\n",
    "                                    sagemaker_session=session)\n",
    "\n",
    "# TODO: Set the XGBoost hyperparameters in the xgb object. Don't forget that in this case we have a binary\n",
    "#       label so we should be using the 'binary:logistic' objective.\n",
    "\n",
    "xgb.set_hyperparameters(max_depth=5,\n",
    "                       eta=0.2,\n",
    "                       gamma=4,\n",
    "                       min_child_weight=6,\n",
    "                       subsample=0.8,\n",
    "                       objective='binary:logistic',\n",
    "                       early_stopping_rounds=10,\n",
    "                       num_round=200)"
   ]
  },
  {
   "cell_type": "markdown",
   "metadata": {},
   "source": [
    "### (TODO) Create the hyperparameter tuner\n",
    "\n",
    "Now that the base estimator has been set up we need to construct a hyperparameter tuner object which we will use to request SageMaker construct a hyperparameter tuning job.\n",
    "\n",
    "**Note:** Training a single sentiment analysis XGBoost model takes longer than training a Boston Housing XGBoost model so if you don't want the hyperparameter tuning job to take too long, make sure to not set the total number of models (jobs) too high."
   ]
  },
  {
   "cell_type": "code",
   "execution_count": 29,
   "metadata": {},
   "outputs": [],
   "source": [
    "# First, make sure to import the relevant objects used to construct the tuner\n",
    "from sagemaker.tuner import IntegerParameter, ContinuousParameter, HyperparameterTuner\n",
    "\n",
    "# TODO: Create the hyperparameter tuner object\n",
    "\n",
    "xgb_hyperparameter_tuner = HyperparameterTuner(estimator=xgb,\n",
    "                                              objective_metric_name='validation:rmse',\n",
    "                                              objective_type='Minimize',\n",
    "                                              max_jobs=10,\n",
    "                                              max_parallel_jobs=2,\n",
    "                                              hyperparameter_ranges={\n",
    "                                                  'max_depth': IntegerParameter(3,12),\n",
    "                                                  'eta': ContinuousParameter(0.05, 0.5),\n",
    "                                                  'min_child_weight': IntegerParameter(2,8),\n",
    "                                                  'subsample': ContinuousParameter(0.5, 0.9),\n",
    "                                                  'gamma': ContinuousParameter(0,10)\n",
    "                                              })\n",
    "\n"
   ]
  },
  {
   "cell_type": "markdown",
   "metadata": {},
   "source": [
    "### Fit the hyperparameter tuner\n",
    "\n",
    "Now that the hyperparameter tuner object has been constructed, it is time to fit the various models and find the best performing model."
   ]
  },
  {
   "cell_type": "code",
   "execution_count": 26,
   "metadata": {},
   "outputs": [
    {
     "name": "stderr",
     "output_type": "stream",
     "text": [
      "'s3_input' class will be renamed to 'TrainingInput' in SageMaker Python SDK v2.\n",
      "'s3_input' class will be renamed to 'TrainingInput' in SageMaker Python SDK v2.\n"
     ]
    }
   ],
   "source": [
    "s3_input_train = sagemaker.s3_input(s3_data=train_location, content_type='csv')\n",
    "s3_input_validation = sagemaker.s3_input(s3_data=val_location, content_type='csv')"
   ]
  },
  {
   "cell_type": "code",
   "execution_count": 30,
   "metadata": {},
   "outputs": [],
   "source": [
    "xgb_hyperparameter_tuner.fit({'train': s3_input_train, 'validation': s3_input_validation})"
   ]
  },
  {
   "cell_type": "markdown",
   "metadata": {},
   "source": [
    "Remember that the tuning job is constructed and run in the background so if we want to see the progress of our training job we need to call the `wait()` method."
   ]
  },
  {
   "cell_type": "code",
   "execution_count": 31,
   "metadata": {},
   "outputs": [
    {
     "name": "stdout",
     "output_type": "stream",
     "text": [
      "............................................................................................................................................................................................................................................................................................................................................................................................................................................................................................................................................................................................................................................................................!\n"
     ]
    }
   ],
   "source": [
    "xgb_hyperparameter_tuner.wait()"
   ]
  },
  {
   "cell_type": "markdown",
   "metadata": {},
   "source": [
    "### (TODO) Testing the model\n",
    "\n",
    "Now that we've run our hyperparameter tuning job, it's time to see how well the best performing model actually performs. To do this we will use SageMaker's Batch Transform functionality. Batch Transform is a convenient way to perform inference on a large dataset in a way that is not realtime. That is, we don't necessarily need to use our model's results immediately and instead we can peform inference on a large number of samples. An example of this in industry might be peforming an end of month report. This method of inference can also be useful to us as it means to can perform inference on our entire test set. \n",
    "\n",
    "Remember that in order to create a transformer object to perform the batch transform job, we need a trained estimator object. We can do that using the `attach()` method, creating an estimator object which is attached to the best trained job."
   ]
  },
  {
   "cell_type": "code",
   "execution_count": 32,
   "metadata": {},
   "outputs": [
    {
     "name": "stderr",
     "output_type": "stream",
     "text": [
      "Parameter image_name will be renamed to image_uri in SageMaker Python SDK v2.\n"
     ]
    },
    {
     "name": "stdout",
     "output_type": "stream",
     "text": [
      "2020-08-31 20:15:55 Starting - Preparing the instances for training\n",
      "2020-08-31 20:15:55 Downloading - Downloading input data\n",
      "2020-08-31 20:15:55 Training - Training image download completed. Training in progress.\n",
      "2020-08-31 20:15:55 Uploading - Uploading generated training model\n",
      "2020-08-31 20:15:55 Completed - Training job completed\u001b[34mArguments: train\u001b[0m\n",
      "\u001b[34m[2020-08-31:20:06:58:INFO] Running standalone xgboost training.\u001b[0m\n",
      "\u001b[34m[2020-08-31:20:06:58:INFO] Setting up HPO optimized metric to be : rmse\u001b[0m\n",
      "\u001b[34m[2020-08-31:20:06:58:INFO] File size need to be processed in the node: 238.47mb. Available memory size in the node: 8494.87mb\u001b[0m\n",
      "\u001b[34m[2020-08-31:20:06:58:INFO] Determined delimiter of CSV input is ','\u001b[0m\n",
      "\u001b[34m[20:06:58] S3DistributionType set as FullyReplicated\u001b[0m\n",
      "\u001b[34m[20:07:00] 15000x5000 matrix with 75000000 entries loaded from /opt/ml/input/data/train?format=csv&label_column=0&delimiter=,\u001b[0m\n",
      "\u001b[34m[2020-08-31:20:07:00:INFO] Determined delimiter of CSV input is ','\u001b[0m\n",
      "\u001b[34m[20:07:00] S3DistributionType set as FullyReplicated\u001b[0m\n",
      "\u001b[34m[20:07:01] 10000x5000 matrix with 50000000 entries loaded from /opt/ml/input/data/validation?format=csv&label_column=0&delimiter=,\u001b[0m\n",
      "\u001b[34m[20:07:06] src/tree/updater_prune.cc:74: tree pruning end, 1 roots, 142 extra nodes, 12 pruned nodes, max_depth=10\u001b[0m\n",
      "\u001b[34m[0]#011train-rmse:0.469477#011validation-rmse:0.47244\u001b[0m\n",
      "\u001b[34mMultiple eval metrics have been passed: 'validation-rmse' will be used for early stopping.\n",
      "\u001b[0m\n",
      "\u001b[34mWill train until validation-rmse hasn't improved in 10 rounds.\u001b[0m\n",
      "\u001b[34m[20:07:09] src/tree/updater_prune.cc:74: tree pruning end, 1 roots, 112 extra nodes, 12 pruned nodes, max_depth=10\u001b[0m\n",
      "\u001b[34m[1]#011train-rmse:0.447988#011validation-rmse:0.453479\u001b[0m\n",
      "\u001b[34m[20:07:12] src/tree/updater_prune.cc:74: tree pruning end, 1 roots, 118 extra nodes, 28 pruned nodes, max_depth=10\u001b[0m\n",
      "\u001b[34m[2]#011train-rmse:0.43289#011validation-rmse:0.4411\u001b[0m\n",
      "\u001b[34m[20:07:15] src/tree/updater_prune.cc:74: tree pruning end, 1 roots, 96 extra nodes, 20 pruned nodes, max_depth=10\u001b[0m\n",
      "\u001b[34m[3]#011train-rmse:0.420295#011validation-rmse:0.430286\u001b[0m\n",
      "\u001b[34m[20:07:18] src/tree/updater_prune.cc:74: tree pruning end, 1 roots, 134 extra nodes, 14 pruned nodes, max_depth=10\u001b[0m\n",
      "\u001b[34m[4]#011train-rmse:0.40979#011validation-rmse:0.422364\u001b[0m\n",
      "\u001b[34m[20:07:21] src/tree/updater_prune.cc:74: tree pruning end, 1 roots, 88 extra nodes, 30 pruned nodes, max_depth=10\u001b[0m\n",
      "\u001b[34m[5]#011train-rmse:0.401268#011validation-rmse:0.415276\u001b[0m\n",
      "\u001b[34m[20:07:24] src/tree/updater_prune.cc:74: tree pruning end, 1 roots, 100 extra nodes, 22 pruned nodes, max_depth=10\u001b[0m\n",
      "\u001b[34m[6]#011train-rmse:0.392608#011validation-rmse:0.409565\u001b[0m\n",
      "\u001b[34m[20:07:27] src/tree/updater_prune.cc:74: tree pruning end, 1 roots, 124 extra nodes, 14 pruned nodes, max_depth=10\u001b[0m\n",
      "\u001b[34m[7]#011train-rmse:0.384782#011validation-rmse:0.404473\u001b[0m\n",
      "\u001b[34m[20:07:30] src/tree/updater_prune.cc:74: tree pruning end, 1 roots, 118 extra nodes, 14 pruned nodes, max_depth=10\u001b[0m\n",
      "\u001b[34m[8]#011train-rmse:0.377713#011validation-rmse:0.399479\u001b[0m\n",
      "\u001b[34m[20:07:33] src/tree/updater_prune.cc:74: tree pruning end, 1 roots, 96 extra nodes, 18 pruned nodes, max_depth=10\u001b[0m\n",
      "\u001b[34m[9]#011train-rmse:0.37237#011validation-rmse:0.395606\u001b[0m\n",
      "\u001b[34m[20:07:36] src/tree/updater_prune.cc:74: tree pruning end, 1 roots, 84 extra nodes, 18 pruned nodes, max_depth=10\u001b[0m\n",
      "\u001b[34m[10]#011train-rmse:0.367017#011validation-rmse:0.391557\u001b[0m\n",
      "\u001b[34m[20:07:38] src/tree/updater_prune.cc:74: tree pruning end, 1 roots, 108 extra nodes, 18 pruned nodes, max_depth=10\u001b[0m\n",
      "\u001b[34m[11]#011train-rmse:0.361561#011validation-rmse:0.388342\u001b[0m\n",
      "\u001b[34m[20:07:41] src/tree/updater_prune.cc:74: tree pruning end, 1 roots, 68 extra nodes, 20 pruned nodes, max_depth=10\u001b[0m\n",
      "\u001b[34m[12]#011train-rmse:0.357119#011validation-rmse:0.384607\u001b[0m\n",
      "\u001b[34m[20:07:44] src/tree/updater_prune.cc:74: tree pruning end, 1 roots, 84 extra nodes, 18 pruned nodes, max_depth=10\u001b[0m\n",
      "\u001b[34m[13]#011train-rmse:0.352476#011validation-rmse:0.381799\u001b[0m\n",
      "\u001b[34m[20:07:47] src/tree/updater_prune.cc:74: tree pruning end, 1 roots, 62 extra nodes, 14 pruned nodes, max_depth=10\u001b[0m\n",
      "\u001b[34m[14]#011train-rmse:0.348917#011validation-rmse:0.378924\u001b[0m\n",
      "\u001b[34m[20:07:50] src/tree/updater_prune.cc:74: tree pruning end, 1 roots, 94 extra nodes, 14 pruned nodes, max_depth=10\u001b[0m\n",
      "\u001b[34m[15]#011train-rmse:0.344506#011validation-rmse:0.3762\u001b[0m\n",
      "\u001b[34m[20:07:53] src/tree/updater_prune.cc:74: tree pruning end, 1 roots, 74 extra nodes, 20 pruned nodes, max_depth=10\u001b[0m\n",
      "\u001b[34m[16]#011train-rmse:0.340847#011validation-rmse:0.37335\u001b[0m\n",
      "\u001b[34m[20:07:56] src/tree/updater_prune.cc:74: tree pruning end, 1 roots, 84 extra nodes, 20 pruned nodes, max_depth=10\u001b[0m\n",
      "\u001b[34m[17]#011train-rmse:0.33724#011validation-rmse:0.371146\u001b[0m\n",
      "\u001b[34m[20:07:59] src/tree/updater_prune.cc:74: tree pruning end, 1 roots, 66 extra nodes, 22 pruned nodes, max_depth=10\u001b[0m\n",
      "\u001b[34m[18]#011train-rmse:0.334044#011validation-rmse:0.369036\u001b[0m\n",
      "\u001b[34m[20:08:02] src/tree/updater_prune.cc:74: tree pruning end, 1 roots, 64 extra nodes, 14 pruned nodes, max_depth=10\u001b[0m\n",
      "\u001b[34m[19]#011train-rmse:0.331029#011validation-rmse:0.366668\u001b[0m\n",
      "\u001b[34m[20:08:05] src/tree/updater_prune.cc:74: tree pruning end, 1 roots, 72 extra nodes, 20 pruned nodes, max_depth=10\u001b[0m\n",
      "\u001b[34m[20]#011train-rmse:0.328391#011validation-rmse:0.364634\u001b[0m\n",
      "\u001b[34m[20:08:07] src/tree/updater_prune.cc:74: tree pruning end, 1 roots, 88 extra nodes, 10 pruned nodes, max_depth=10\u001b[0m\n",
      "\u001b[34m[21]#011train-rmse:0.325299#011validation-rmse:0.363247\u001b[0m\n",
      "\u001b[34m[20:08:10] src/tree/updater_prune.cc:74: tree pruning end, 1 roots, 42 extra nodes, 8 pruned nodes, max_depth=10\u001b[0m\n",
      "\u001b[34m[22]#011train-rmse:0.323053#011validation-rmse:0.361581\u001b[0m\n",
      "\u001b[34m[20:08:13] src/tree/updater_prune.cc:74: tree pruning end, 1 roots, 88 extra nodes, 24 pruned nodes, max_depth=10\u001b[0m\n",
      "\u001b[34m[23]#011train-rmse:0.320051#011validation-rmse:0.360105\u001b[0m\n",
      "\u001b[34m[20:08:16] src/tree/updater_prune.cc:74: tree pruning end, 1 roots, 54 extra nodes, 20 pruned nodes, max_depth=10\u001b[0m\n",
      "\u001b[34m[24]#011train-rmse:0.317829#011validation-rmse:0.358316\u001b[0m\n",
      "\u001b[34m[20:08:19] src/tree/updater_prune.cc:74: tree pruning end, 1 roots, 100 extra nodes, 10 pruned nodes, max_depth=10\u001b[0m\n",
      "\u001b[34m[25]#011train-rmse:0.314808#011validation-rmse:0.357149\u001b[0m\n",
      "\u001b[34m[20:08:22] src/tree/updater_prune.cc:74: tree pruning end, 1 roots, 68 extra nodes, 14 pruned nodes, max_depth=10\u001b[0m\n",
      "\u001b[34m[26]#011train-rmse:0.312461#011validation-rmse:0.355888\u001b[0m\n",
      "\u001b[34m[20:08:25] src/tree/updater_prune.cc:74: tree pruning end, 1 roots, 38 extra nodes, 16 pruned nodes, max_depth=10\u001b[0m\n",
      "\u001b[34m[27]#011train-rmse:0.310641#011validation-rmse:0.354194\u001b[0m\n",
      "\u001b[34m[20:08:28] src/tree/updater_prune.cc:74: tree pruning end, 1 roots, 40 extra nodes, 10 pruned nodes, max_depth=10\u001b[0m\n",
      "\u001b[34m[28]#011train-rmse:0.308889#011validation-rmse:0.352948\u001b[0m\n",
      "\u001b[34m[20:08:31] src/tree/updater_prune.cc:74: tree pruning end, 1 roots, 54 extra nodes, 14 pruned nodes, max_depth=10\u001b[0m\n",
      "\u001b[34m[29]#011train-rmse:0.306922#011validation-rmse:0.351739\u001b[0m\n",
      "\u001b[34m[20:08:34] src/tree/updater_prune.cc:74: tree pruning end, 1 roots, 68 extra nodes, 18 pruned nodes, max_depth=10\u001b[0m\n",
      "\u001b[34m[30]#011train-rmse:0.305011#011validation-rmse:0.350532\u001b[0m\n",
      "\u001b[34m[20:08:37] src/tree/updater_prune.cc:74: tree pruning end, 1 roots, 62 extra nodes, 18 pruned nodes, max_depth=10\u001b[0m\n",
      "\u001b[34m[31]#011train-rmse:0.303117#011validation-rmse:0.349318\u001b[0m\n",
      "\u001b[34m[20:08:39] src/tree/updater_prune.cc:74: tree pruning end, 1 roots, 70 extra nodes, 16 pruned nodes, max_depth=10\u001b[0m\n",
      "\u001b[34m[32]#011train-rmse:0.300925#011validation-rmse:0.348285\u001b[0m\n",
      "\u001b[34m[20:08:42] src/tree/updater_prune.cc:74: tree pruning end, 1 roots, 50 extra nodes, 16 pruned nodes, max_depth=10\u001b[0m\n",
      "\u001b[34m[33]#011train-rmse:0.299479#011validation-rmse:0.347654\u001b[0m\n",
      "\u001b[34m[20:08:45] src/tree/updater_prune.cc:74: tree pruning end, 1 roots, 52 extra nodes, 16 pruned nodes, max_depth=10\u001b[0m\n",
      "\u001b[34m[34]#011train-rmse:0.297736#011validation-rmse:0.346683\u001b[0m\n",
      "\u001b[34m[20:08:48] src/tree/updater_prune.cc:74: tree pruning end, 1 roots, 42 extra nodes, 12 pruned nodes, max_depth=10\u001b[0m\n",
      "\u001b[34m[35]#011train-rmse:0.296206#011validation-rmse:0.346036\u001b[0m\n",
      "\u001b[34m[20:08:51] src/tree/updater_prune.cc:74: tree pruning end, 1 roots, 66 extra nodes, 8 pruned nodes, max_depth=10\u001b[0m\n",
      "\u001b[34m[36]#011train-rmse:0.294542#011validation-rmse:0.345409\u001b[0m\n",
      "\u001b[34m[20:08:54] src/tree/updater_prune.cc:74: tree pruning end, 1 roots, 68 extra nodes, 4 pruned nodes, max_depth=10\u001b[0m\n",
      "\u001b[34m[37]#011train-rmse:0.292889#011validation-rmse:0.344826\u001b[0m\n",
      "\u001b[34m[20:08:57] src/tree/updater_prune.cc:74: tree pruning end, 1 roots, 62 extra nodes, 24 pruned nodes, max_depth=10\u001b[0m\n",
      "\u001b[34m[38]#011train-rmse:0.291251#011validation-rmse:0.343727\u001b[0m\n",
      "\u001b[34m[20:09:00] src/tree/updater_prune.cc:74: tree pruning end, 1 roots, 58 extra nodes, 6 pruned nodes, max_depth=10\u001b[0m\n",
      "\u001b[34m[39]#011train-rmse:0.289552#011validation-rmse:0.343286\u001b[0m\n",
      "\u001b[34m[20:09:03] src/tree/updater_prune.cc:74: tree pruning end, 1 roots, 38 extra nodes, 14 pruned nodes, max_depth=10\u001b[0m\n",
      "\u001b[34m[40]#011train-rmse:0.28827#011validation-rmse:0.342021\u001b[0m\n",
      "\u001b[34m[20:09:06] src/tree/updater_prune.cc:74: tree pruning end, 1 roots, 38 extra nodes, 10 pruned nodes, max_depth=10\u001b[0m\n",
      "\u001b[34m[41]#011train-rmse:0.286973#011validation-rmse:0.341477\u001b[0m\n",
      "\u001b[34m[20:09:09] src/tree/updater_prune.cc:74: tree pruning end, 1 roots, 72 extra nodes, 28 pruned nodes, max_depth=10\u001b[0m\n",
      "\u001b[34m[42]#011train-rmse:0.285173#011validation-rmse:0.340496\u001b[0m\n",
      "\u001b[34m[20:09:11] src/tree/updater_prune.cc:74: tree pruning end, 1 roots, 36 extra nodes, 16 pruned nodes, max_depth=10\u001b[0m\n",
      "\u001b[34m[43]#011train-rmse:0.283888#011validation-rmse:0.339921\u001b[0m\n",
      "\u001b[34m[20:09:14] src/tree/updater_prune.cc:74: tree pruning end, 1 roots, 44 extra nodes, 14 pruned nodes, max_depth=10\u001b[0m\n",
      "\u001b[34m[44]#011train-rmse:0.282493#011validation-rmse:0.339433\u001b[0m\n",
      "\u001b[34m[20:09:17] src/tree/updater_prune.cc:74: tree pruning end, 1 roots, 50 extra nodes, 12 pruned nodes, max_depth=10\u001b[0m\n",
      "\u001b[34m[45]#011train-rmse:0.28075#011validation-rmse:0.338717\u001b[0m\n",
      "\u001b[34m[20:09:20] src/tree/updater_prune.cc:74: tree pruning end, 1 roots, 56 extra nodes, 16 pruned nodes, max_depth=10\u001b[0m\n",
      "\u001b[34m[46]#011train-rmse:0.27924#011validation-rmse:0.337967\u001b[0m\n",
      "\u001b[34m[20:09:23] src/tree/updater_prune.cc:74: tree pruning end, 1 roots, 48 extra nodes, 18 pruned nodes, max_depth=10\u001b[0m\n",
      "\u001b[34m[47]#011train-rmse:0.277989#011validation-rmse:0.337596\u001b[0m\n",
      "\u001b[34m[20:09:26] src/tree/updater_prune.cc:74: tree pruning end, 1 roots, 76 extra nodes, 24 pruned nodes, max_depth=10\u001b[0m\n",
      "\u001b[34m[48]#011train-rmse:0.276384#011validation-rmse:0.336915\u001b[0m\n",
      "\u001b[34m[20:09:29] src/tree/updater_prune.cc:74: tree pruning end, 1 roots, 66 extra nodes, 24 pruned nodes, max_depth=10\u001b[0m\n",
      "\u001b[34m[49]#011train-rmse:0.274802#011validation-rmse:0.33635\u001b[0m\n",
      "\u001b[34m[20:09:32] src/tree/updater_prune.cc:74: tree pruning end, 1 roots, 100 extra nodes, 12 pruned nodes, max_depth=10\u001b[0m\n",
      "\u001b[34m[50]#011train-rmse:0.272959#011validation-rmse:0.336103\u001b[0m\n",
      "\u001b[34m[20:09:35] src/tree/updater_prune.cc:74: tree pruning end, 1 roots, 58 extra nodes, 12 pruned nodes, max_depth=10\u001b[0m\n",
      "\u001b[34m[51]#011train-rmse:0.271724#011validation-rmse:0.33532\u001b[0m\n",
      "\u001b[34m[20:09:38] src/tree/updater_prune.cc:74: tree pruning end, 1 roots, 52 extra nodes, 12 pruned nodes, max_depth=10\u001b[0m\n",
      "\u001b[34m[52]#011train-rmse:0.270492#011validation-rmse:0.334908\u001b[0m\n",
      "\u001b[34m[20:09:41] src/tree/updater_prune.cc:74: tree pruning end, 1 roots, 48 extra nodes, 8 pruned nodes, max_depth=10\u001b[0m\n",
      "\u001b[34m[53]#011train-rmse:0.26934#011validation-rmse:0.334269\u001b[0m\n",
      "\u001b[34m[20:09:43] src/tree/updater_prune.cc:74: tree pruning end, 1 roots, 44 extra nodes, 14 pruned nodes, max_depth=10\u001b[0m\n",
      "\u001b[34m[54]#011train-rmse:0.26824#011validation-rmse:0.333682\u001b[0m\n",
      "\u001b[34m[20:09:46] src/tree/updater_prune.cc:74: tree pruning end, 1 roots, 36 extra nodes, 8 pruned nodes, max_depth=10\u001b[0m\n",
      "\u001b[34m[55]#011train-rmse:0.267386#011validation-rmse:0.333245\u001b[0m\n",
      "\u001b[34m[20:09:49] src/tree/updater_prune.cc:74: tree pruning end, 1 roots, 42 extra nodes, 10 pruned nodes, max_depth=10\u001b[0m\n",
      "\u001b[34m[56]#011train-rmse:0.266377#011validation-rmse:0.332959\u001b[0m\n",
      "\u001b[34m[20:09:52] src/tree/updater_prune.cc:74: tree pruning end, 1 roots, 38 extra nodes, 12 pruned nodes, max_depth=10\u001b[0m\n",
      "\u001b[34m[57]#011train-rmse:0.265502#011validation-rmse:0.332432\u001b[0m\n",
      "\u001b[34m[20:09:55] src/tree/updater_prune.cc:74: tree pruning end, 1 roots, 46 extra nodes, 18 pruned nodes, max_depth=10\u001b[0m\n",
      "\u001b[34m[58]#011train-rmse:0.264619#011validation-rmse:0.332018\u001b[0m\n",
      "\u001b[34m[20:09:58] src/tree/updater_prune.cc:74: tree pruning end, 1 roots, 28 extra nodes, 2 pruned nodes, max_depth=10\u001b[0m\n",
      "\u001b[34m[59]#011train-rmse:0.263856#011validation-rmse:0.331481\u001b[0m\n",
      "\u001b[34m[20:10:01] src/tree/updater_prune.cc:74: tree pruning end, 1 roots, 42 extra nodes, 8 pruned nodes, max_depth=10\u001b[0m\n",
      "\u001b[34m[60]#011train-rmse:0.262926#011validation-rmse:0.331191\u001b[0m\n",
      "\u001b[34m[20:10:04] src/tree/updater_prune.cc:74: tree pruning end, 1 roots, 58 extra nodes, 14 pruned nodes, max_depth=10\u001b[0m\n",
      "\u001b[34m[61]#011train-rmse:0.261798#011validation-rmse:0.330974\u001b[0m\n",
      "\u001b[34m[20:10:07] src/tree/updater_prune.cc:74: tree pruning end, 1 roots, 38 extra nodes, 18 pruned nodes, max_depth=10\u001b[0m\n",
      "\u001b[34m[62]#011train-rmse:0.260868#011validation-rmse:0.330289\u001b[0m\n",
      "\u001b[34m[20:10:10] src/tree/updater_prune.cc:74: tree pruning end, 1 roots, 50 extra nodes, 4 pruned nodes, max_depth=10\u001b[0m\n",
      "\u001b[34m[63]#011train-rmse:0.259678#011validation-rmse:0.329506\u001b[0m\n",
      "\u001b[34m[20:10:13] src/tree/updater_prune.cc:74: tree pruning end, 1 roots, 40 extra nodes, 16 pruned nodes, max_depth=10\u001b[0m\n",
      "\u001b[34m[64]#011train-rmse:0.258688#011validation-rmse:0.328947\u001b[0m\n",
      "\u001b[34m[20:10:15] src/tree/updater_prune.cc:74: tree pruning end, 1 roots, 24 extra nodes, 14 pruned nodes, max_depth=10\u001b[0m\n",
      "\u001b[34m[65]#011train-rmse:0.257997#011validation-rmse:0.3284\u001b[0m\n",
      "\u001b[34m[20:10:18] src/tree/updater_prune.cc:74: tree pruning end, 1 roots, 32 extra nodes, 10 pruned nodes, max_depth=10\u001b[0m\n",
      "\u001b[34m[66]#011train-rmse:0.257085#011validation-rmse:0.328134\u001b[0m\n",
      "\u001b[34m[20:10:21] src/tree/updater_prune.cc:74: tree pruning end, 1 roots, 38 extra nodes, 10 pruned nodes, max_depth=10\u001b[0m\n",
      "\u001b[34m[67]#011train-rmse:0.256229#011validation-rmse:0.327756\u001b[0m\n",
      "\u001b[34m[20:10:24] src/tree/updater_prune.cc:74: tree pruning end, 1 roots, 46 extra nodes, 16 pruned nodes, max_depth=10\u001b[0m\n",
      "\u001b[34m[68]#011train-rmse:0.25545#011validation-rmse:0.327428\u001b[0m\n",
      "\u001b[34m[20:10:27] src/tree/updater_prune.cc:74: tree pruning end, 1 roots, 24 extra nodes, 8 pruned nodes, max_depth=10\u001b[0m\n",
      "\u001b[34m[69]#011train-rmse:0.254794#011validation-rmse:0.327212\u001b[0m\n",
      "\u001b[34m[20:10:30] src/tree/updater_prune.cc:74: tree pruning end, 1 roots, 38 extra nodes, 12 pruned nodes, max_depth=10\u001b[0m\n",
      "\u001b[34m[70]#011train-rmse:0.254098#011validation-rmse:0.326908\u001b[0m\n",
      "\u001b[34m[20:10:33] src/tree/updater_prune.cc:74: tree pruning end, 1 roots, 54 extra nodes, 18 pruned nodes, max_depth=10\u001b[0m\n",
      "\u001b[34m[71]#011train-rmse:0.252891#011validation-rmse:0.326413\u001b[0m\n",
      "\u001b[34m[20:10:36] src/tree/updater_prune.cc:74: tree pruning end, 1 roots, 40 extra nodes, 10 pruned nodes, max_depth=10\u001b[0m\n",
      "\u001b[34m[72]#011train-rmse:0.251938#011validation-rmse:0.326063\u001b[0m\n",
      "\u001b[34m[20:10:39] src/tree/updater_prune.cc:74: tree pruning end, 1 roots, 24 extra nodes, 4 pruned nodes, max_depth=10\u001b[0m\n",
      "\u001b[34m[73]#011train-rmse:0.251475#011validation-rmse:0.325811\u001b[0m\n",
      "\u001b[34m[20:10:42] src/tree/updater_prune.cc:74: tree pruning end, 1 roots, 34 extra nodes, 10 pruned nodes, max_depth=10\u001b[0m\n",
      "\u001b[34m[74]#011train-rmse:0.25077#011validation-rmse:0.325379\u001b[0m\n",
      "\u001b[34m[20:10:44] src/tree/updater_prune.cc:74: tree pruning end, 1 roots, 26 extra nodes, 4 pruned nodes, max_depth=10\u001b[0m\n",
      "\u001b[34m[75]#011train-rmse:0.250177#011validation-rmse:0.325085\u001b[0m\n",
      "\u001b[34m[20:10:47] src/tree/updater_prune.cc:74: tree pruning end, 1 roots, 54 extra nodes, 18 pruned nodes, max_depth=10\u001b[0m\n",
      "\u001b[34m[76]#011train-rmse:0.248948#011validation-rmse:0.324895\u001b[0m\n",
      "\u001b[34m[20:10:50] src/tree/updater_prune.cc:74: tree pruning end, 1 roots, 44 extra nodes, 10 pruned nodes, max_depth=10\u001b[0m\n",
      "\u001b[34m[77]#011train-rmse:0.248029#011validation-rmse:0.324537\u001b[0m\n",
      "\u001b[34m[20:10:53] src/tree/updater_prune.cc:74: tree pruning end, 1 roots, 48 extra nodes, 22 pruned nodes, max_depth=10\u001b[0m\n",
      "\u001b[34m[78]#011train-rmse:0.247171#011validation-rmse:0.324474\u001b[0m\n",
      "\u001b[34m[20:10:56] src/tree/updater_prune.cc:74: tree pruning end, 1 roots, 32 extra nodes, 8 pruned nodes, max_depth=10\u001b[0m\n",
      "\u001b[34m[79]#011train-rmse:0.246575#011validation-rmse:0.324236\u001b[0m\n",
      "\u001b[34m[20:10:59] src/tree/updater_prune.cc:74: tree pruning end, 1 roots, 26 extra nodes, 4 pruned nodes, max_depth=10\u001b[0m\n",
      "\u001b[34m[80]#011train-rmse:0.24606#011validation-rmse:0.323774\u001b[0m\n",
      "\u001b[34m[20:11:02] src/tree/updater_prune.cc:74: tree pruning end, 1 roots, 26 extra nodes, 18 pruned nodes, max_depth=10\u001b[0m\n",
      "\u001b[34m[81]#011train-rmse:0.245511#011validation-rmse:0.323723\u001b[0m\n",
      "\u001b[34m[20:11:05] src/tree/updater_prune.cc:74: tree pruning end, 1 roots, 50 extra nodes, 14 pruned nodes, max_depth=10\u001b[0m\n",
      "\u001b[34m[82]#011train-rmse:0.244632#011validation-rmse:0.323543\u001b[0m\n",
      "\u001b[34m[20:11:08] src/tree/updater_prune.cc:74: tree pruning end, 1 roots, 38 extra nodes, 4 pruned nodes, max_depth=10\u001b[0m\n",
      "\u001b[34m[83]#011train-rmse:0.243898#011validation-rmse:0.323399\u001b[0m\n",
      "\u001b[34m[20:11:11] src/tree/updater_prune.cc:74: tree pruning end, 1 roots, 46 extra nodes, 12 pruned nodes, max_depth=10\u001b[0m\n",
      "\u001b[34m[84]#011train-rmse:0.242981#011validation-rmse:0.323109\u001b[0m\n",
      "\u001b[34m[20:11:14] src/tree/updater_prune.cc:74: tree pruning end, 1 roots, 44 extra nodes, 20 pruned nodes, max_depth=10\u001b[0m\n",
      "\u001b[34m[85]#011train-rmse:0.242093#011validation-rmse:0.322588\u001b[0m\n",
      "\u001b[34m[20:11:16] src/tree/updater_prune.cc:74: tree pruning end, 1 roots, 26 extra nodes, 14 pruned nodes, max_depth=10\u001b[0m\n",
      "\u001b[34m[86]#011train-rmse:0.241668#011validation-rmse:0.322281\u001b[0m\n",
      "\u001b[34m[20:11:19] src/tree/updater_prune.cc:74: tree pruning end, 1 roots, 40 extra nodes, 14 pruned nodes, max_depth=10\u001b[0m\n",
      "\u001b[34m[87]#011train-rmse:0.240794#011validation-rmse:0.322192\u001b[0m\n",
      "\u001b[34m[20:11:22] src/tree/updater_prune.cc:74: tree pruning end, 1 roots, 42 extra nodes, 6 pruned nodes, max_depth=10\u001b[0m\n",
      "\u001b[34m[88]#011train-rmse:0.239971#011validation-rmse:0.321966\u001b[0m\n",
      "\u001b[34m[20:11:25] src/tree/updater_prune.cc:74: tree pruning end, 1 roots, 34 extra nodes, 8 pruned nodes, max_depth=10\u001b[0m\n",
      "\u001b[34m[89]#011train-rmse:0.239316#011validation-rmse:0.321837\u001b[0m\n",
      "\u001b[34m[20:11:28] src/tree/updater_prune.cc:74: tree pruning end, 1 roots, 32 extra nodes, 4 pruned nodes, max_depth=10\u001b[0m\n",
      "\u001b[34m[90]#011train-rmse:0.238651#011validation-rmse:0.321734\u001b[0m\n",
      "\u001b[34m[20:11:31] src/tree/updater_prune.cc:74: tree pruning end, 1 roots, 28 extra nodes, 6 pruned nodes, max_depth=10\u001b[0m\n",
      "\u001b[34m[91]#011train-rmse:0.238088#011validation-rmse:0.321574\u001b[0m\n",
      "\u001b[34m[20:11:34] src/tree/updater_prune.cc:74: tree pruning end, 1 roots, 22 extra nodes, 14 pruned nodes, max_depth=10\u001b[0m\n",
      "\u001b[34m[92]#011train-rmse:0.23771#011validation-rmse:0.321515\u001b[0m\n",
      "\u001b[34m[20:11:37] src/tree/updater_prune.cc:74: tree pruning end, 1 roots, 36 extra nodes, 16 pruned nodes, max_depth=10\u001b[0m\n",
      "\u001b[34m[93]#011train-rmse:0.236889#011validation-rmse:0.32139\u001b[0m\n",
      "\u001b[34m[20:11:40] src/tree/updater_prune.cc:74: tree pruning end, 1 roots, 50 extra nodes, 12 pruned nodes, max_depth=10\u001b[0m\n",
      "\u001b[34m[94]#011train-rmse:0.235934#011validation-rmse:0.321478\u001b[0m\n",
      "\u001b[34m[20:11:42] src/tree/updater_prune.cc:74: tree pruning end, 1 roots, 30 extra nodes, 6 pruned nodes, max_depth=10\u001b[0m\n",
      "\u001b[34m[95]#011train-rmse:0.235464#011validation-rmse:0.321352\u001b[0m\n",
      "\u001b[34m[20:11:45] src/tree/updater_prune.cc:74: tree pruning end, 1 roots, 50 extra nodes, 22 pruned nodes, max_depth=10\u001b[0m\n",
      "\u001b[34m[96]#011train-rmse:0.234724#011validation-rmse:0.321123\u001b[0m\n",
      "\u001b[34m[20:11:48] src/tree/updater_prune.cc:74: tree pruning end, 1 roots, 40 extra nodes, 14 pruned nodes, max_depth=10\u001b[0m\n",
      "\u001b[34m[97]#011train-rmse:0.233823#011validation-rmse:0.320893\u001b[0m\n",
      "\u001b[34m[20:11:51] src/tree/updater_prune.cc:74: tree pruning end, 1 roots, 38 extra nodes, 10 pruned nodes, max_depth=10\u001b[0m\n",
      "\u001b[34m[98]#011train-rmse:0.233209#011validation-rmse:0.320742\u001b[0m\n",
      "\u001b[34m[20:11:54] src/tree/updater_prune.cc:74: tree pruning end, 1 roots, 40 extra nodes, 14 pruned nodes, max_depth=10\u001b[0m\n",
      "\u001b[34m[99]#011train-rmse:0.232489#011validation-rmse:0.320545\u001b[0m\n",
      "\u001b[34m[20:11:57] src/tree/updater_prune.cc:74: tree pruning end, 1 roots, 40 extra nodes, 10 pruned nodes, max_depth=10\u001b[0m\n",
      "\u001b[34m[100]#011train-rmse:0.231798#011validation-rmse:0.320389\u001b[0m\n",
      "\u001b[34m[20:12:00] src/tree/updater_prune.cc:74: tree pruning end, 1 roots, 34 extra nodes, 6 pruned nodes, max_depth=10\u001b[0m\n",
      "\u001b[34m[101]#011train-rmse:0.231333#011validation-rmse:0.320227\u001b[0m\n",
      "\u001b[34m[20:12:03] src/tree/updater_prune.cc:74: tree pruning end, 1 roots, 30 extra nodes, 16 pruned nodes, max_depth=10\u001b[0m\n",
      "\u001b[34m[102]#011train-rmse:0.230688#011validation-rmse:0.320247\u001b[0m\n",
      "\u001b[34m[20:12:06] src/tree/updater_prune.cc:74: tree pruning end, 1 roots, 46 extra nodes, 14 pruned nodes, max_depth=10\u001b[0m\n",
      "\u001b[34m[103]#011train-rmse:0.229987#011validation-rmse:0.320112\u001b[0m\n",
      "\u001b[34m[20:12:09] src/tree/updater_prune.cc:74: tree pruning end, 1 roots, 34 extra nodes, 6 pruned nodes, max_depth=10\u001b[0m\n",
      "\u001b[34m[104]#011train-rmse:0.2295#011validation-rmse:0.320063\u001b[0m\n",
      "\u001b[34m[20:12:11] src/tree/updater_prune.cc:74: tree pruning end, 1 roots, 54 extra nodes, 10 pruned nodes, max_depth=10\u001b[0m\n",
      "\u001b[34m[105]#011train-rmse:0.228496#011validation-rmse:0.320083\u001b[0m\n",
      "\u001b[34m[20:12:14] src/tree/updater_prune.cc:74: tree pruning end, 1 roots, 24 extra nodes, 10 pruned nodes, max_depth=10\u001b[0m\n",
      "\u001b[34m[106]#011train-rmse:0.228004#011validation-rmse:0.320261\u001b[0m\n",
      "\u001b[34m[20:12:17] src/tree/updater_prune.cc:74: tree pruning end, 1 roots, 38 extra nodes, 12 pruned nodes, max_depth=10\u001b[0m\n",
      "\u001b[34m[107]#011train-rmse:0.227471#011validation-rmse:0.320156\u001b[0m\n",
      "\u001b[34m[20:12:20] src/tree/updater_prune.cc:74: tree pruning end, 1 roots, 48 extra nodes, 12 pruned nodes, max_depth=10\u001b[0m\n",
      "\u001b[34m[108]#011train-rmse:0.226628#011validation-rmse:0.320045\u001b[0m\n",
      "\u001b[34m[20:12:23] src/tree/updater_prune.cc:74: tree pruning end, 1 roots, 56 extra nodes, 4 pruned nodes, max_depth=10\u001b[0m\n",
      "\u001b[34m[109]#011train-rmse:0.225623#011validation-rmse:0.319752\u001b[0m\n",
      "\u001b[34m[20:12:26] src/tree/updater_prune.cc:74: tree pruning end, 1 roots, 32 extra nodes, 14 pruned nodes, max_depth=10\u001b[0m\n",
      "\u001b[34m[110]#011train-rmse:0.225064#011validation-rmse:0.319799\u001b[0m\n",
      "\u001b[34m[20:12:29] src/tree/updater_prune.cc:74: tree pruning end, 1 roots, 48 extra nodes, 12 pruned nodes, max_depth=10\u001b[0m\n",
      "\u001b[34m[111]#011train-rmse:0.22432#011validation-rmse:0.319939\u001b[0m\n",
      "\u001b[34m[20:12:32] src/tree/updater_prune.cc:74: tree pruning end, 1 roots, 40 extra nodes, 22 pruned nodes, max_depth=10\u001b[0m\n",
      "\u001b[34m[112]#011train-rmse:0.223742#011validation-rmse:0.319785\u001b[0m\n",
      "\u001b[34m[20:12:35] src/tree/updater_prune.cc:74: tree pruning end, 1 roots, 30 extra nodes, 2 pruned nodes, max_depth=10\u001b[0m\n",
      "\u001b[34m[113]#011train-rmse:0.223201#011validation-rmse:0.319561\u001b[0m\n",
      "\u001b[34m[20:12:38] src/tree/updater_prune.cc:74: tree pruning end, 1 roots, 32 extra nodes, 14 pruned nodes, max_depth=10\u001b[0m\n",
      "\u001b[34m[114]#011train-rmse:0.222859#011validation-rmse:0.31935\u001b[0m\n",
      "\u001b[34m[20:12:41] src/tree/updater_prune.cc:74: tree pruning end, 1 roots, 44 extra nodes, 14 pruned nodes, max_depth=10\u001b[0m\n",
      "\u001b[34m[115]#011train-rmse:0.222207#011validation-rmse:0.319421\u001b[0m\n",
      "\u001b[34m[20:12:43] src/tree/updater_prune.cc:74: tree pruning end, 1 roots, 22 extra nodes, 10 pruned nodes, max_depth=10\u001b[0m\n",
      "\u001b[34m[116]#011train-rmse:0.221868#011validation-rmse:0.319388\u001b[0m\n",
      "\u001b[34m[20:12:46] src/tree/updater_prune.cc:74: tree pruning end, 1 roots, 42 extra nodes, 26 pruned nodes, max_depth=10\u001b[0m\n",
      "\u001b[34m[117]#011train-rmse:0.221306#011validation-rmse:0.319109\u001b[0m\n",
      "\u001b[34m[20:12:49] src/tree/updater_prune.cc:74: tree pruning end, 1 roots, 46 extra nodes, 6 pruned nodes, max_depth=10\u001b[0m\n",
      "\u001b[34m[118]#011train-rmse:0.220542#011validation-rmse:0.319088\u001b[0m\n",
      "\u001b[34m[20:12:52] src/tree/updater_prune.cc:74: tree pruning end, 1 roots, 30 extra nodes, 10 pruned nodes, max_depth=10\u001b[0m\n",
      "\u001b[34m[119]#011train-rmse:0.220047#011validation-rmse:0.318974\u001b[0m\n",
      "\u001b[34m[20:12:55] src/tree/updater_prune.cc:74: tree pruning end, 1 roots, 24 extra nodes, 6 pruned nodes, max_depth=10\u001b[0m\n",
      "\u001b[34m[120]#011train-rmse:0.219641#011validation-rmse:0.318907\u001b[0m\n",
      "\u001b[34m[20:12:58] src/tree/updater_prune.cc:74: tree pruning end, 1 roots, 36 extra nodes, 18 pruned nodes, max_depth=10\u001b[0m\n",
      "\u001b[34m[121]#011train-rmse:0.219235#011validation-rmse:0.318744\u001b[0m\n",
      "\u001b[34m[20:13:01] src/tree/updater_prune.cc:74: tree pruning end, 1 roots, 34 extra nodes, 6 pruned nodes, max_depth=10\u001b[0m\n",
      "\u001b[34m[122]#011train-rmse:0.218604#011validation-rmse:0.318898\u001b[0m\n",
      "\u001b[34m[20:13:04] src/tree/updater_prune.cc:74: tree pruning end, 1 roots, 32 extra nodes, 16 pruned nodes, max_depth=10\u001b[0m\n",
      "\u001b[34m[123]#011train-rmse:0.218126#011validation-rmse:0.318587\u001b[0m\n",
      "\u001b[34m[20:13:07] src/tree/updater_prune.cc:74: tree pruning end, 1 roots, 28 extra nodes, 16 pruned nodes, max_depth=10\u001b[0m\n",
      "\u001b[34m[124]#011train-rmse:0.217681#011validation-rmse:0.318742\u001b[0m\n",
      "\u001b[34m[20:13:10] src/tree/updater_prune.cc:74: tree pruning end, 1 roots, 30 extra nodes, 6 pruned nodes, max_depth=10\u001b[0m\n",
      "\u001b[34m[125]#011train-rmse:0.217311#011validation-rmse:0.318745\u001b[0m\n",
      "\u001b[34m[20:13:13] src/tree/updater_prune.cc:74: tree pruning end, 1 roots, 26 extra nodes, 16 pruned nodes, max_depth=10\u001b[0m\n",
      "\u001b[34m[126]#011train-rmse:0.216945#011validation-rmse:0.318591\u001b[0m\n",
      "\u001b[34m[20:13:15] src/tree/updater_prune.cc:74: tree pruning end, 1 roots, 40 extra nodes, 10 pruned nodes, max_depth=10\u001b[0m\n",
      "\u001b[34m[127]#011train-rmse:0.21628#011validation-rmse:0.318619\u001b[0m\n",
      "\u001b[34m[20:13:18] src/tree/updater_prune.cc:74: tree pruning end, 1 roots, 34 extra nodes, 18 pruned nodes, max_depth=10\u001b[0m\n",
      "\u001b[34m[128]#011train-rmse:0.215841#011validation-rmse:0.31857\u001b[0m\n",
      "\u001b[34m[20:13:21] src/tree/updater_prune.cc:74: tree pruning end, 1 roots, 30 extra nodes, 10 pruned nodes, max_depth=10\u001b[0m\n",
      "\u001b[34m[129]#011train-rmse:0.215371#011validation-rmse:0.318365\u001b[0m\n",
      "\u001b[34m[20:13:24] src/tree/updater_prune.cc:74: tree pruning end, 1 roots, 28 extra nodes, 8 pruned nodes, max_depth=10\u001b[0m\n",
      "\u001b[34m[130]#011train-rmse:0.215002#011validation-rmse:0.318267\u001b[0m\n",
      "\u001b[34m[20:13:27] src/tree/updater_prune.cc:74: tree pruning end, 1 roots, 42 extra nodes, 4 pruned nodes, max_depth=10\u001b[0m\n",
      "\u001b[34m[131]#011train-rmse:0.214275#011validation-rmse:0.318024\u001b[0m\n",
      "\u001b[34m[20:13:30] src/tree/updater_prune.cc:74: tree pruning end, 1 roots, 32 extra nodes, 6 pruned nodes, max_depth=10\u001b[0m\n",
      "\u001b[34m[132]#011train-rmse:0.213796#011validation-rmse:0.318012\u001b[0m\n",
      "\u001b[34m[20:13:33] src/tree/updater_prune.cc:74: tree pruning end, 1 roots, 32 extra nodes, 8 pruned nodes, max_depth=10\u001b[0m\n",
      "\u001b[34m[133]#011train-rmse:0.21335#011validation-rmse:0.317912\u001b[0m\n",
      "\u001b[34m[20:13:36] src/tree/updater_prune.cc:74: tree pruning end, 1 roots, 32 extra nodes, 12 pruned nodes, max_depth=10\u001b[0m\n",
      "\u001b[34m[134]#011train-rmse:0.212775#011validation-rmse:0.318013\u001b[0m\n",
      "\u001b[34m[20:13:39] src/tree/updater_prune.cc:74: tree pruning end, 1 roots, 40 extra nodes, 4 pruned nodes, max_depth=10\u001b[0m\n",
      "\u001b[34m[135]#011train-rmse:0.212249#011validation-rmse:0.318015\u001b[0m\n",
      "\u001b[34m[20:13:42] src/tree/updater_prune.cc:74: tree pruning end, 1 roots, 40 extra nodes, 10 pruned nodes, max_depth=10\u001b[0m\n",
      "\u001b[34m[136]#011train-rmse:0.211547#011validation-rmse:0.318082\u001b[0m\n",
      "\u001b[34m[20:13:45] src/tree/updater_prune.cc:74: tree pruning end, 1 roots, 44 extra nodes, 4 pruned nodes, max_depth=10\u001b[0m\n",
      "\u001b[34m[137]#011train-rmse:0.210963#011validation-rmse:0.317878\u001b[0m\n",
      "\u001b[34m[20:13:47] src/tree/updater_prune.cc:74: tree pruning end, 1 roots, 48 extra nodes, 12 pruned nodes, max_depth=10\u001b[0m\n",
      "\u001b[34m[138]#011train-rmse:0.210233#011validation-rmse:0.317776\u001b[0m\n",
      "\u001b[34m[20:13:50] src/tree/updater_prune.cc:74: tree pruning end, 1 roots, 56 extra nodes, 12 pruned nodes, max_depth=10\u001b[0m\n",
      "\u001b[34m[139]#011train-rmse:0.209368#011validation-rmse:0.317713\u001b[0m\n",
      "\u001b[34m[20:13:53] src/tree/updater_prune.cc:74: tree pruning end, 1 roots, 38 extra nodes, 14 pruned nodes, max_depth=10\u001b[0m\n",
      "\u001b[34m[140]#011train-rmse:0.208785#011validation-rmse:0.317824\u001b[0m\n",
      "\u001b[34m[20:13:56] src/tree/updater_prune.cc:74: tree pruning end, 1 roots, 26 extra nodes, 6 pruned nodes, max_depth=10\u001b[0m\n",
      "\u001b[34m[141]#011train-rmse:0.208489#011validation-rmse:0.31779\u001b[0m\n",
      "\u001b[34m[20:13:59] src/tree/updater_prune.cc:74: tree pruning end, 1 roots, 30 extra nodes, 14 pruned nodes, max_depth=10\u001b[0m\n",
      "\u001b[34m[142]#011train-rmse:0.208131#011validation-rmse:0.317702\u001b[0m\n",
      "\u001b[34m[20:14:02] src/tree/updater_prune.cc:74: tree pruning end, 1 roots, 48 extra nodes, 18 pruned nodes, max_depth=10\u001b[0m\n",
      "\u001b[34m[143]#011train-rmse:0.207369#011validation-rmse:0.317859\u001b[0m\n",
      "\u001b[34m[20:14:05] src/tree/updater_prune.cc:74: tree pruning end, 1 roots, 32 extra nodes, 20 pruned nodes, max_depth=10\u001b[0m\n",
      "\u001b[34m[144]#011train-rmse:0.20691#011validation-rmse:0.317811\u001b[0m\n",
      "\u001b[34m[20:14:08] src/tree/updater_prune.cc:74: tree pruning end, 1 roots, 26 extra nodes, 8 pruned nodes, max_depth=10\u001b[0m\n",
      "\u001b[34m[145]#011train-rmse:0.206497#011validation-rmse:0.317828\u001b[0m\n",
      "\u001b[34m[20:14:11] src/tree/updater_prune.cc:74: tree pruning end, 1 roots, 26 extra nodes, 8 pruned nodes, max_depth=10\u001b[0m\n",
      "\u001b[34m[146]#011train-rmse:0.206098#011validation-rmse:0.317569\u001b[0m\n",
      "\u001b[34m[20:14:14] src/tree/updater_prune.cc:74: tree pruning end, 1 roots, 52 extra nodes, 24 pruned nodes, max_depth=10\u001b[0m\n",
      "\u001b[34m[147]#011train-rmse:0.205371#011validation-rmse:0.317502\u001b[0m\n",
      "\u001b[34m[20:14:17] src/tree/updater_prune.cc:74: tree pruning end, 1 roots, 48 extra nodes, 6 pruned nodes, max_depth=10\u001b[0m\n",
      "\u001b[34m[148]#011train-rmse:0.204735#011validation-rmse:0.317468\u001b[0m\n",
      "\u001b[34m[20:14:20] src/tree/updater_prune.cc:74: tree pruning end, 1 roots, 20 extra nodes, 12 pruned nodes, max_depth=10\u001b[0m\n",
      "\u001b[34m[149]#011train-rmse:0.204424#011validation-rmse:0.317327\u001b[0m\n",
      "\u001b[34m[20:14:22] src/tree/updater_prune.cc:74: tree pruning end, 1 roots, 32 extra nodes, 0 pruned nodes, max_depth=10\u001b[0m\n",
      "\u001b[34m[150]#011train-rmse:0.204099#011validation-rmse:0.317235\u001b[0m\n",
      "\u001b[34m[20:14:25] src/tree/updater_prune.cc:74: tree pruning end, 1 roots, 26 extra nodes, 6 pruned nodes, max_depth=10\u001b[0m\n",
      "\u001b[34m[151]#011train-rmse:0.203755#011validation-rmse:0.316922\u001b[0m\n",
      "\u001b[34m[20:14:28] src/tree/updater_prune.cc:74: tree pruning end, 1 roots, 44 extra nodes, 8 pruned nodes, max_depth=10\u001b[0m\n",
      "\u001b[34m[152]#011train-rmse:0.203111#011validation-rmse:0.31701\u001b[0m\n",
      "\u001b[34m[20:14:31] src/tree/updater_prune.cc:74: tree pruning end, 1 roots, 24 extra nodes, 2 pruned nodes, max_depth=10\u001b[0m\n",
      "\u001b[34m[153]#011train-rmse:0.202789#011validation-rmse:0.317009\u001b[0m\n",
      "\u001b[34m[20:14:34] src/tree/updater_prune.cc:74: tree pruning end, 1 roots, 62 extra nodes, 24 pruned nodes, max_depth=10\u001b[0m\n",
      "\u001b[34m[154]#011train-rmse:0.201809#011validation-rmse:0.31708\u001b[0m\n",
      "\u001b[34m[20:14:37] src/tree/updater_prune.cc:74: tree pruning end, 1 roots, 24 extra nodes, 8 pruned nodes, max_depth=10\u001b[0m\n",
      "\u001b[34m[155]#011train-rmse:0.201469#011validation-rmse:0.316986\u001b[0m\n",
      "\u001b[34m[20:14:40] src/tree/updater_prune.cc:74: tree pruning end, 1 roots, 42 extra nodes, 24 pruned nodes, max_depth=10\u001b[0m\n",
      "\u001b[34m[156]#011train-rmse:0.20091#011validation-rmse:0.316882\u001b[0m\n",
      "\u001b[34m[20:14:43] src/tree/updater_prune.cc:74: tree pruning end, 1 roots, 20 extra nodes, 12 pruned nodes, max_depth=10\u001b[0m\n",
      "\u001b[34m[157]#011train-rmse:0.200675#011validation-rmse:0.316794\u001b[0m\n",
      "\u001b[34m[20:14:46] src/tree/updater_prune.cc:74: tree pruning end, 1 roots, 48 extra nodes, 14 pruned nodes, max_depth=10\u001b[0m\n",
      "\u001b[34m[158]#011train-rmse:0.200001#011validation-rmse:0.316434\u001b[0m\n",
      "\u001b[34m[20:14:49] src/tree/updater_prune.cc:74: tree pruning end, 1 roots, 34 extra nodes, 8 pruned nodes, max_depth=10\u001b[0m\n",
      "\u001b[34m[159]#011train-rmse:0.19946#011validation-rmse:0.316375\u001b[0m\n",
      "\u001b[34m[20:14:52] src/tree/updater_prune.cc:74: tree pruning end, 1 roots, 22 extra nodes, 8 pruned nodes, max_depth=10\u001b[0m\n",
      "\u001b[34m[160]#011train-rmse:0.199294#011validation-rmse:0.316221\u001b[0m\n",
      "\u001b[34m[20:14:54] src/tree/updater_prune.cc:74: tree pruning end, 1 roots, 26 extra nodes, 12 pruned nodes, max_depth=10\u001b[0m\n",
      "\u001b[34m[161]#011train-rmse:0.1989#011validation-rmse:0.316301\u001b[0m\n",
      "\u001b[34m[20:14:57] src/tree/updater_prune.cc:74: tree pruning end, 1 roots, 28 extra nodes, 12 pruned nodes, max_depth=10\u001b[0m\n",
      "\u001b[34m[162]#011train-rmse:0.198604#011validation-rmse:0.316193\u001b[0m\n",
      "\u001b[34m[20:15:00] src/tree/updater_prune.cc:74: tree pruning end, 1 roots, 28 extra nodes, 2 pruned nodes, max_depth=10\u001b[0m\n",
      "\u001b[34m[163]#011train-rmse:0.198299#011validation-rmse:0.316244\u001b[0m\n",
      "\u001b[34m[20:15:03] src/tree/updater_prune.cc:74: tree pruning end, 1 roots, 26 extra nodes, 8 pruned nodes, max_depth=10\u001b[0m\n",
      "\u001b[34m[164]#011train-rmse:0.197857#011validation-rmse:0.316245\u001b[0m\n",
      "\u001b[34m[20:15:06] src/tree/updater_prune.cc:74: tree pruning end, 1 roots, 30 extra nodes, 8 pruned nodes, max_depth=10\u001b[0m\n",
      "\u001b[34m[165]#011train-rmse:0.19751#011validation-rmse:0.316052\u001b[0m\n",
      "\u001b[34m[20:15:09] src/tree/updater_prune.cc:74: tree pruning end, 1 roots, 28 extra nodes, 2 pruned nodes, max_depth=10\u001b[0m\n",
      "\u001b[34m[166]#011train-rmse:0.197133#011validation-rmse:0.316025\u001b[0m\n",
      "\u001b[34m[20:15:12] src/tree/updater_prune.cc:74: tree pruning end, 1 roots, 26 extra nodes, 18 pruned nodes, max_depth=10\u001b[0m\n",
      "\u001b[34m[167]#011train-rmse:0.196811#011validation-rmse:0.315984\u001b[0m\n",
      "\u001b[34m[20:15:15] src/tree/updater_prune.cc:74: tree pruning end, 1 roots, 24 extra nodes, 6 pruned nodes, max_depth=10\u001b[0m\n",
      "\u001b[34m[168]#011train-rmse:0.196615#011validation-rmse:0.315825\u001b[0m\n",
      "\u001b[34m[20:15:18] src/tree/updater_prune.cc:74: tree pruning end, 1 roots, 24 extra nodes, 10 pruned nodes, max_depth=10\u001b[0m\n",
      "\u001b[34m[169]#011train-rmse:0.196389#011validation-rmse:0.315864\u001b[0m\n",
      "\u001b[34m[20:15:21] src/tree/updater_prune.cc:74: tree pruning end, 1 roots, 30 extra nodes, 14 pruned nodes, max_depth=10\u001b[0m\n",
      "\u001b[34m[170]#011train-rmse:0.196001#011validation-rmse:0.316022\u001b[0m\n",
      "\u001b[34m[20:15:24] src/tree/updater_prune.cc:74: tree pruning end, 1 roots, 52 extra nodes, 18 pruned nodes, max_depth=10\u001b[0m\n",
      "\u001b[34m[171]#011train-rmse:0.195079#011validation-rmse:0.316205\u001b[0m\n",
      "\u001b[34m[20:15:27] src/tree/updater_prune.cc:74: tree pruning end, 1 roots, 28 extra nodes, 10 pruned nodes, max_depth=10\u001b[0m\n",
      "\u001b[34m[172]#011train-rmse:0.194751#011validation-rmse:0.316093\u001b[0m\n",
      "\u001b[34m[20:15:30] src/tree/updater_prune.cc:74: tree pruning end, 1 roots, 32 extra nodes, 14 pruned nodes, max_depth=10\u001b[0m\n",
      "\u001b[34m[173]#011train-rmse:0.19443#011validation-rmse:0.316074\u001b[0m\n",
      "\u001b[34m[20:15:33] src/tree/updater_prune.cc:74: tree pruning end, 1 roots, 30 extra nodes, 16 pruned nodes, max_depth=10\u001b[0m\n",
      "\u001b[34m[174]#011train-rmse:0.193953#011validation-rmse:0.315928\u001b[0m\n",
      "\u001b[34m[20:15:35] src/tree/updater_prune.cc:74: tree pruning end, 1 roots, 34 extra nodes, 14 pruned nodes, max_depth=10\u001b[0m\n",
      "\u001b[34m[175]#011train-rmse:0.193508#011validation-rmse:0.316088\u001b[0m\n",
      "\u001b[34m[20:15:38] src/tree/updater_prune.cc:74: tree pruning end, 1 roots, 24 extra nodes, 8 pruned nodes, max_depth=10\u001b[0m\n",
      "\u001b[34m[176]#011train-rmse:0.193276#011validation-rmse:0.316099\u001b[0m\n",
      "\u001b[34m[20:15:41] src/tree/updater_prune.cc:74: tree pruning end, 1 roots, 24 extra nodes, 6 pruned nodes, max_depth=10\u001b[0m\n",
      "\u001b[34m[177]#011train-rmse:0.193003#011validation-rmse:0.316087\u001b[0m\n",
      "\u001b[34m[20:15:44] src/tree/updater_prune.cc:74: tree pruning end, 1 roots, 24 extra nodes, 8 pruned nodes, max_depth=10\u001b[0m\n",
      "\u001b[34m[178]#011train-rmse:0.192756#011validation-rmse:0.316019\u001b[0m\n",
      "\u001b[34mStopping. Best iteration:\u001b[0m\n",
      "\u001b[34m[168]#011train-rmse:0.196615#011validation-rmse:0.315825\n",
      "\u001b[0m\n"
     ]
    },
    {
     "name": "stdout",
     "output_type": "stream",
     "text": [
      "Training seconds: 584\n",
      "Billable seconds: 584\n"
     ]
    }
   ],
   "source": [
    "# TODO: Create a new estimator object attached to the best training job found during hyperparameter tuning\n",
    "\n",
    "xgb_attached = sagemaker.estimator.Estimator.attach(xgb_hyperparameter_tuner.best_training_job())\n"
   ]
  },
  {
   "cell_type": "markdown",
   "metadata": {},
   "source": [
    "Now that we have an estimator object attached to the correct training job, we can proceed as we normally would and create a transformer object."
   ]
  },
  {
   "cell_type": "code",
   "execution_count": 33,
   "metadata": {},
   "outputs": [
    {
     "name": "stderr",
     "output_type": "stream",
     "text": [
      "Parameter image will be renamed to image_uri in SageMaker Python SDK v2.\n"
     ]
    }
   ],
   "source": [
    "# TODO: Create a transformer object from the attached estimator. Using an instance count of 1 and an instance type of ml.m4.xlarge\n",
    "#       should be more than enough.\n",
    "\n",
    "xgb_transformer = xgb_attached.transformer(instance_count=1, \n",
    "                                        instance_type='ml.m4.xlarge')\n"
   ]
  },
  {
   "cell_type": "markdown",
   "metadata": {},
   "source": [
    "Next we actually perform the transform job. When doing so we need to make sure to specify the type of data we are sending so that it is serialized correctly in the background. In our case we are providing our model with csv data so we specify `text/csv`. Also, if the test data that we have provided is too large to process all at once then we need to specify how the data file should be split up. Since each line is a single entry in our data set we tell SageMaker that it can split the input on each line."
   ]
  },
  {
   "cell_type": "code",
   "execution_count": 44,
   "metadata": {},
   "outputs": [],
   "source": [
    "# TODO: Start the transform job. Make sure to specify the content type and the split type of the test data.\n",
    "xgb_transformer.transform(test_location,content_type='text/csv',split_type='Line')"
   ]
  },
  {
   "cell_type": "markdown",
   "metadata": {},
   "source": [
    "Currently the transform job is running but it is doing so in the background. Since we wish to wait until the transform job is done and we would like a bit of feedback we can run the `wait()` method."
   ]
  },
  {
   "cell_type": "code",
   "execution_count": 45,
   "metadata": {},
   "outputs": [
    {
     "name": "stdout",
     "output_type": "stream",
     "text": [
      "...........................\u001b[32m2020-08-31T21:00:47.640:[sagemaker logs]: MaxConcurrentTransforms=4, MaxPayloadInMB=6, BatchStrategy=MULTI_RECORD\u001b[0m\n",
      "\u001b[34mArguments: serve\u001b[0m\n",
      "\u001b[34m[2020-08-31 21:00:47 +0000] [1] [INFO] Starting gunicorn 19.7.1\u001b[0m\n",
      "\u001b[34m[2020-08-31 21:00:47 +0000] [1] [INFO] Listening at: http://0.0.0.0:8080 (1)\u001b[0m\n",
      "\u001b[34m[2020-08-31 21:00:47 +0000] [1] [INFO] Using worker: gevent\u001b[0m\n",
      "\u001b[34m[2020-08-31 21:00:47 +0000] [37] [INFO] Booting worker with pid: 37\u001b[0m\n",
      "\u001b[34m[2020-08-31 21:00:47 +0000] [38] [INFO] Booting worker with pid: 38\u001b[0m\n",
      "\u001b[34m[2020-08-31 21:00:47 +0000] [39] [INFO] Booting worker with pid: 39\u001b[0m\n",
      "\u001b[34m[2020-08-31 21:00:47 +0000] [40] [INFO] Booting worker with pid: 40\u001b[0m\n",
      "\u001b[34m[2020-08-31:21:00:47:INFO] Model loaded successfully for worker : 37\u001b[0m\n",
      "\u001b[34m[2020-08-31:21:00:47:INFO] Model loaded successfully for worker : 39\u001b[0m\n",
      "\u001b[35mArguments: serve\u001b[0m\n",
      "\u001b[35m[2020-08-31 21:00:47 +0000] [1] [INFO] Starting gunicorn 19.7.1\u001b[0m\n",
      "\u001b[35m[2020-08-31 21:00:47 +0000] [1] [INFO] Listening at: http://0.0.0.0:8080 (1)\u001b[0m\n",
      "\u001b[35m[2020-08-31 21:00:47 +0000] [1] [INFO] Using worker: gevent\u001b[0m\n",
      "\u001b[35m[2020-08-31 21:00:47 +0000] [37] [INFO] Booting worker with pid: 37\u001b[0m\n",
      "\u001b[35m[2020-08-31 21:00:47 +0000] [38] [INFO] Booting worker with pid: 38\u001b[0m\n",
      "\u001b[35m[2020-08-31 21:00:47 +0000] [39] [INFO] Booting worker with pid: 39\u001b[0m\n",
      "\u001b[35m[2020-08-31 21:00:47 +0000] [40] [INFO] Booting worker with pid: 40\u001b[0m\n",
      "\u001b[35m[2020-08-31:21:00:47:INFO] Model loaded successfully for worker : 37\u001b[0m\n",
      "\u001b[35m[2020-08-31:21:00:47:INFO] Model loaded successfully for worker : 39\u001b[0m\n",
      "\u001b[34m[2020-08-31:21:00:47:INFO] Model loaded successfully for worker : 38\u001b[0m\n",
      "\u001b[34m[2020-08-31:21:00:47:INFO] Model loaded successfully for worker : 40\u001b[0m\n",
      "\u001b[34m[2020-08-31:21:00:47:INFO] Sniff delimiter as ','\u001b[0m\n",
      "\u001b[34m[2020-08-31:21:00:47:INFO] Determined delimiter of CSV input is ','\u001b[0m\n",
      "\u001b[34m[2020-08-31:21:00:47:INFO] Sniff delimiter as ','\u001b[0m\n",
      "\u001b[34m[2020-08-31:21:00:47:INFO] Determined delimiter of CSV input is ','\u001b[0m\n",
      "\u001b[34m[2020-08-31:21:00:48:INFO] Sniff delimiter as ','\u001b[0m\n",
      "\u001b[34m[2020-08-31:21:00:48:INFO] Determined delimiter of CSV input is ','\u001b[0m\n",
      "\u001b[34m[2020-08-31:21:00:48:INFO] Sniff delimiter as ','\u001b[0m\n",
      "\u001b[34m[2020-08-31:21:00:48:INFO] Determined delimiter of CSV input is ','\u001b[0m\n",
      "\u001b[35m[2020-08-31:21:00:47:INFO] Model loaded successfully for worker : 38\u001b[0m\n",
      "\u001b[35m[2020-08-31:21:00:47:INFO] Model loaded successfully for worker : 40\u001b[0m\n",
      "\u001b[35m[2020-08-31:21:00:47:INFO] Sniff delimiter as ','\u001b[0m\n",
      "\u001b[35m[2020-08-31:21:00:47:INFO] Determined delimiter of CSV input is ','\u001b[0m\n",
      "\u001b[35m[2020-08-31:21:00:47:INFO] Sniff delimiter as ','\u001b[0m\n",
      "\u001b[35m[2020-08-31:21:00:47:INFO] Determined delimiter of CSV input is ','\u001b[0m\n",
      "\u001b[35m[2020-08-31:21:00:48:INFO] Sniff delimiter as ','\u001b[0m\n",
      "\u001b[35m[2020-08-31:21:00:48:INFO] Determined delimiter of CSV input is ','\u001b[0m\n",
      "\u001b[35m[2020-08-31:21:00:48:INFO] Sniff delimiter as ','\u001b[0m\n",
      "\u001b[35m[2020-08-31:21:00:48:INFO] Determined delimiter of CSV input is ','\u001b[0m\n",
      "\u001b[34m[2020-08-31:21:00:50:INFO] Sniff delimiter as ','\u001b[0m\n",
      "\u001b[34m[2020-08-31:21:00:50:INFO] Determined delimiter of CSV input is ','\u001b[0m\n",
      "\u001b[34m[2020-08-31:21:00:50:INFO] Sniff delimiter as ','\u001b[0m\n",
      "\u001b[34m[2020-08-31:21:00:50:INFO] Determined delimiter of CSV input is ','\u001b[0m\n",
      "\u001b[34m[2020-08-31:21:00:50:INFO] Sniff delimiter as ','\u001b[0m\n",
      "\u001b[34m[2020-08-31:21:00:50:INFO] Determined delimiter of CSV input is ','\u001b[0m\n",
      "\u001b[34m[2020-08-31:21:00:50:INFO] Sniff delimiter as ','\u001b[0m\n",
      "\u001b[34m[2020-08-31:21:00:50:INFO] Determined delimiter of CSV input is ','\u001b[0m\n",
      "\u001b[35m[2020-08-31:21:00:50:INFO] Sniff delimiter as ','\u001b[0m\n",
      "\u001b[35m[2020-08-31:21:00:50:INFO] Determined delimiter of CSV input is ','\u001b[0m\n",
      "\u001b[35m[2020-08-31:21:00:50:INFO] Sniff delimiter as ','\u001b[0m\n",
      "\u001b[35m[2020-08-31:21:00:50:INFO] Determined delimiter of CSV input is ','\u001b[0m\n",
      "\u001b[35m[2020-08-31:21:00:50:INFO] Sniff delimiter as ','\u001b[0m\n",
      "\u001b[35m[2020-08-31:21:00:50:INFO] Determined delimiter of CSV input is ','\u001b[0m\n",
      "\u001b[35m[2020-08-31:21:00:50:INFO] Sniff delimiter as ','\u001b[0m\n",
      "\u001b[35m[2020-08-31:21:00:50:INFO] Determined delimiter of CSV input is ','\u001b[0m\n",
      "\u001b[34m[2020-08-31:21:00:52:INFO] Sniff delimiter as ','\u001b[0m\n",
      "\u001b[34m[2020-08-31:21:00:52:INFO] Determined delimiter of CSV input is ','\u001b[0m\n",
      "\u001b[34m[2020-08-31:21:00:52:INFO] Sniff delimiter as ','\u001b[0m\n",
      "\u001b[34m[2020-08-31:21:00:52:INFO] Determined delimiter of CSV input is ','\u001b[0m\n",
      "\u001b[34m[2020-08-31:21:00:53:INFO] Sniff delimiter as ','\u001b[0m\n",
      "\u001b[34m[2020-08-31:21:00:53:INFO] Determined delimiter of CSV input is ','\u001b[0m\n",
      "\u001b[34m[2020-08-31:21:00:53:INFO] Sniff delimiter as ','\u001b[0m\n",
      "\u001b[34m[2020-08-31:21:00:53:INFO] Determined delimiter of CSV input is ','\u001b[0m\n",
      "\u001b[35m[2020-08-31:21:00:52:INFO] Sniff delimiter as ','\u001b[0m\n",
      "\u001b[35m[2020-08-31:21:00:52:INFO] Determined delimiter of CSV input is ','\u001b[0m\n",
      "\u001b[35m[2020-08-31:21:00:52:INFO] Sniff delimiter as ','\u001b[0m\n",
      "\u001b[35m[2020-08-31:21:00:52:INFO] Determined delimiter of CSV input is ','\u001b[0m\n",
      "\u001b[35m[2020-08-31:21:00:53:INFO] Sniff delimiter as ','\u001b[0m\n",
      "\u001b[35m[2020-08-31:21:00:53:INFO] Determined delimiter of CSV input is ','\u001b[0m\n",
      "\u001b[35m[2020-08-31:21:00:53:INFO] Sniff delimiter as ','\u001b[0m\n",
      "\u001b[35m[2020-08-31:21:00:53:INFO] Determined delimiter of CSV input is ','\u001b[0m\n",
      "\u001b[34m[2020-08-31:21:00:55:INFO] Sniff delimiter as ','\u001b[0m\n",
      "\u001b[34m[2020-08-31:21:00:55:INFO] Determined delimiter of CSV input is ','\u001b[0m\n",
      "\u001b[34m[2020-08-31:21:00:55:INFO] Sniff delimiter as ','\u001b[0m\n",
      "\u001b[34m[2020-08-31:21:00:55:INFO] Determined delimiter of CSV input is ','\u001b[0m\n",
      "\u001b[34m[2020-08-31:21:00:55:INFO] Sniff delimiter as ','\u001b[0m\n",
      "\u001b[34m[2020-08-31:21:00:55:INFO] Determined delimiter of CSV input is ','\u001b[0m\n",
      "\u001b[34m[2020-08-31:21:00:55:INFO] Sniff delimiter as ','\u001b[0m\n",
      "\u001b[34m[2020-08-31:21:00:55:INFO] Determined delimiter of CSV input is ','\u001b[0m\n",
      "\u001b[35m[2020-08-31:21:00:55:INFO] Sniff delimiter as ','\u001b[0m\n",
      "\u001b[35m[2020-08-31:21:00:55:INFO] Determined delimiter of CSV input is ','\u001b[0m\n",
      "\u001b[35m[2020-08-31:21:00:55:INFO] Sniff delimiter as ','\u001b[0m\n",
      "\u001b[35m[2020-08-31:21:00:55:INFO] Determined delimiter of CSV input is ','\u001b[0m\n",
      "\u001b[35m[2020-08-31:21:00:55:INFO] Sniff delimiter as ','\u001b[0m\n",
      "\u001b[35m[2020-08-31:21:00:55:INFO] Determined delimiter of CSV input is ','\u001b[0m\n",
      "\u001b[35m[2020-08-31:21:00:55:INFO] Sniff delimiter as ','\u001b[0m\n",
      "\u001b[35m[2020-08-31:21:00:55:INFO] Determined delimiter of CSV input is ','\u001b[0m\n",
      "\u001b[34m[2020-08-31:21:00:57:INFO] Sniff delimiter as ','\u001b[0m\n",
      "\u001b[34m[2020-08-31:21:00:57:INFO] Determined delimiter of CSV input is ','\u001b[0m\n",
      "\u001b[35m[2020-08-31:21:00:57:INFO] Sniff delimiter as ','\u001b[0m\n",
      "\u001b[35m[2020-08-31:21:00:57:INFO] Determined delimiter of CSV input is ','\u001b[0m\n",
      "\u001b[34m[2020-08-31:21:00:57:INFO] Sniff delimiter as ','\u001b[0m\n",
      "\u001b[34m[2020-08-31:21:00:57:INFO] Determined delimiter of CSV input is ','\u001b[0m\n",
      "\u001b[34m[2020-08-31:21:00:58:INFO] Sniff delimiter as ','\u001b[0m\n",
      "\u001b[34m[2020-08-31:21:00:58:INFO] Determined delimiter of CSV input is ','\u001b[0m\n",
      "\u001b[34m[2020-08-31:21:00:58:INFO] Sniff delimiter as ','\u001b[0m\n",
      "\u001b[34m[2020-08-31:21:00:58:INFO] Determined delimiter of CSV input is ','\u001b[0m\n",
      "\u001b[35m[2020-08-31:21:00:57:INFO] Sniff delimiter as ','\u001b[0m\n",
      "\u001b[35m[2020-08-31:21:00:57:INFO] Determined delimiter of CSV input is ','\u001b[0m\n",
      "\u001b[35m[2020-08-31:21:00:58:INFO] Sniff delimiter as ','\u001b[0m\n",
      "\u001b[35m[2020-08-31:21:00:58:INFO] Determined delimiter of CSV input is ','\u001b[0m\n",
      "\u001b[35m[2020-08-31:21:00:58:INFO] Sniff delimiter as ','\u001b[0m\n",
      "\u001b[35m[2020-08-31:21:00:58:INFO] Determined delimiter of CSV input is ','\u001b[0m\n",
      "\u001b[34m[2020-08-31:21:01:00:INFO] Sniff delimiter as ','\u001b[0m\n",
      "\u001b[35m[2020-08-31:21:01:00:INFO] Sniff delimiter as ','\u001b[0m\n",
      "\u001b[34m[2020-08-31:21:01:00:INFO] Determined delimiter of CSV input is ','\u001b[0m\n",
      "\u001b[34m[2020-08-31:21:01:00:INFO] Sniff delimiter as ','\u001b[0m\n",
      "\u001b[34m[2020-08-31:21:01:00:INFO] Determined delimiter of CSV input is ','\u001b[0m\n",
      "\u001b[34m[2020-08-31:21:01:00:INFO] Sniff delimiter as ','\u001b[0m\n",
      "\u001b[34m[2020-08-31:21:01:00:INFO] Determined delimiter of CSV input is ','\u001b[0m\n",
      "\u001b[34m[2020-08-31:21:01:00:INFO] Sniff delimiter as ','\u001b[0m\n",
      "\u001b[34m[2020-08-31:21:01:00:INFO] Determined delimiter of CSV input is ','\u001b[0m\n",
      "\u001b[35m[2020-08-31:21:01:00:INFO] Determined delimiter of CSV input is ','\u001b[0m\n",
      "\u001b[35m[2020-08-31:21:01:00:INFO] Sniff delimiter as ','\u001b[0m\n",
      "\u001b[35m[2020-08-31:21:01:00:INFO] Determined delimiter of CSV input is ','\u001b[0m\n",
      "\u001b[35m[2020-08-31:21:01:00:INFO] Sniff delimiter as ','\u001b[0m\n",
      "\u001b[35m[2020-08-31:21:01:00:INFO] Determined delimiter of CSV input is ','\u001b[0m\n",
      "\u001b[35m[2020-08-31:21:01:00:INFO] Sniff delimiter as ','\u001b[0m\n",
      "\u001b[35m[2020-08-31:21:01:00:INFO] Determined delimiter of CSV input is ','\u001b[0m\n",
      "\u001b[34m[2020-08-31:21:01:02:INFO] Sniff delimiter as ','\u001b[0m\n",
      "\u001b[34m[2020-08-31:21:01:02:INFO] Determined delimiter of CSV input is ','\u001b[0m\n",
      "\u001b[34m[2020-08-31:21:01:02:INFO] Sniff delimiter as ','\u001b[0m\n",
      "\u001b[34m[2020-08-31:21:01:02:INFO] Determined delimiter of CSV input is ','\u001b[0m\n",
      "\u001b[35m[2020-08-31:21:01:02:INFO] Sniff delimiter as ','\u001b[0m\n",
      "\u001b[35m[2020-08-31:21:01:02:INFO] Determined delimiter of CSV input is ','\u001b[0m\n",
      "\u001b[35m[2020-08-31:21:01:02:INFO] Sniff delimiter as ','\u001b[0m\n",
      "\u001b[35m[2020-08-31:21:01:02:INFO] Determined delimiter of CSV input is ','\u001b[0m\n",
      "\u001b[34m[2020-08-31:21:01:02:INFO] Sniff delimiter as ','\u001b[0m\n",
      "\u001b[34m[2020-08-31:21:01:02:INFO] Determined delimiter of CSV input is ','\u001b[0m\n",
      "\u001b[34m[2020-08-31:21:01:03:INFO] Sniff delimiter as ','\u001b[0m\n",
      "\u001b[34m[2020-08-31:21:01:03:INFO] Determined delimiter of CSV input is ','\u001b[0m\n",
      "\u001b[35m[2020-08-31:21:01:02:INFO] Sniff delimiter as ','\u001b[0m\n",
      "\u001b[35m[2020-08-31:21:01:02:INFO] Determined delimiter of CSV input is ','\u001b[0m\n",
      "\u001b[35m[2020-08-31:21:01:03:INFO] Sniff delimiter as ','\u001b[0m\n",
      "\u001b[35m[2020-08-31:21:01:03:INFO] Determined delimiter of CSV input is ','\u001b[0m\n",
      "\u001b[34m[2020-08-31:21:01:05:INFO] Sniff delimiter as ','\u001b[0m\n",
      "\u001b[34m[2020-08-31:21:01:05:INFO] Determined delimiter of CSV input is ','\u001b[0m\n",
      "\u001b[34m[2020-08-31:21:01:05:INFO] Sniff delimiter as ','\u001b[0m\n",
      "\u001b[34m[2020-08-31:21:01:05:INFO] Determined delimiter of CSV input is ','\u001b[0m\n",
      "\u001b[34m[2020-08-31:21:01:05:INFO] Sniff delimiter as ','\u001b[0m\n",
      "\u001b[34m[2020-08-31:21:01:05:INFO] Determined delimiter of CSV input is ','\u001b[0m\n",
      "\u001b[35m[2020-08-31:21:01:05:INFO] Sniff delimiter as ','\u001b[0m\n",
      "\u001b[35m[2020-08-31:21:01:05:INFO] Determined delimiter of CSV input is ','\u001b[0m\n",
      "\u001b[35m[2020-08-31:21:01:05:INFO] Sniff delimiter as ','\u001b[0m\n",
      "\u001b[35m[2020-08-31:21:01:05:INFO] Determined delimiter of CSV input is ','\u001b[0m\n",
      "\u001b[35m[2020-08-31:21:01:05:INFO] Sniff delimiter as ','\u001b[0m\n",
      "\u001b[35m[2020-08-31:21:01:05:INFO] Determined delimiter of CSV input is ','\u001b[0m\n",
      "\u001b[34m[2020-08-31:21:01:05:INFO] Sniff delimiter as ','\u001b[0m\n",
      "\u001b[34m[2020-08-31:21:01:05:INFO] Determined delimiter of CSV input is ','\u001b[0m\n",
      "\u001b[35m[2020-08-31:21:01:05:INFO] Sniff delimiter as ','\u001b[0m\n",
      "\u001b[35m[2020-08-31:21:01:05:INFO] Determined delimiter of CSV input is ','\u001b[0m\n",
      "\u001b[34m[2020-08-31:21:01:07:INFO] Sniff delimiter as ','\u001b[0m\n",
      "\u001b[34m[2020-08-31:21:01:07:INFO] Determined delimiter of CSV input is ','\u001b[0m\n",
      "\u001b[34m[2020-08-31:21:01:07:INFO] Sniff delimiter as ','\u001b[0m\n",
      "\u001b[34m[2020-08-31:21:01:07:INFO] Determined delimiter of CSV input is ','\u001b[0m\n",
      "\u001b[35m[2020-08-31:21:01:07:INFO] Sniff delimiter as ','\u001b[0m\n",
      "\u001b[35m[2020-08-31:21:01:07:INFO] Determined delimiter of CSV input is ','\u001b[0m\n",
      "\u001b[35m[2020-08-31:21:01:07:INFO] Sniff delimiter as ','\u001b[0m\n",
      "\u001b[35m[2020-08-31:21:01:07:INFO] Determined delimiter of CSV input is ','\u001b[0m\n",
      "\u001b[34m[2020-08-31:21:01:07:INFO] Sniff delimiter as ','\u001b[0m\n",
      "\u001b[34m[2020-08-31:21:01:07:INFO] Determined delimiter of CSV input is ','\u001b[0m\n",
      "\u001b[35m[2020-08-31:21:01:07:INFO] Sniff delimiter as ','\u001b[0m\n",
      "\u001b[35m[2020-08-31:21:01:07:INFO] Determined delimiter of CSV input is ','\u001b[0m\n",
      "\u001b[34m[2020-08-31:21:01:08:INFO] Sniff delimiter as ','\u001b[0m\n",
      "\u001b[34m[2020-08-31:21:01:08:INFO] Determined delimiter of CSV input is ','\u001b[0m\n",
      "\u001b[35m[2020-08-31:21:01:08:INFO] Sniff delimiter as ','\u001b[0m\n",
      "\u001b[35m[2020-08-31:21:01:08:INFO] Determined delimiter of CSV input is ','\u001b[0m\n"
     ]
    },
    {
     "name": "stdout",
     "output_type": "stream",
     "text": [
      "\n",
      "\u001b[34m[2020-08-31:21:01:09:INFO] Sniff delimiter as ','\u001b[0m\n",
      "\u001b[34m[2020-08-31:21:01:09:INFO] Determined delimiter of CSV input is ','\u001b[0m\n",
      "\u001b[34m[2020-08-31:21:01:10:INFO] Sniff delimiter as ','\u001b[0m\n",
      "\u001b[34m[2020-08-31:21:01:10:INFO] Determined delimiter of CSV input is ','\u001b[0m\n",
      "\u001b[34m[2020-08-31:21:01:10:INFO] Sniff delimiter as ','\u001b[0m\n",
      "\u001b[34m[2020-08-31:21:01:10:INFO] Determined delimiter of CSV input is ','\u001b[0m\n",
      "\u001b[35m[2020-08-31:21:01:09:INFO] Sniff delimiter as ','\u001b[0m\n",
      "\u001b[35m[2020-08-31:21:01:09:INFO] Determined delimiter of CSV input is ','\u001b[0m\n",
      "\u001b[35m[2020-08-31:21:01:10:INFO] Sniff delimiter as ','\u001b[0m\n",
      "\u001b[35m[2020-08-31:21:01:10:INFO] Determined delimiter of CSV input is ','\u001b[0m\n",
      "\u001b[35m[2020-08-31:21:01:10:INFO] Sniff delimiter as ','\u001b[0m\n",
      "\u001b[35m[2020-08-31:21:01:10:INFO] Determined delimiter of CSV input is ','\u001b[0m\n"
     ]
    }
   ],
   "source": [
    "xgb_transformer.wait()"
   ]
  },
  {
   "cell_type": "markdown",
   "metadata": {},
   "source": [
    "Now the transform job has executed and the result, the estimated sentiment of each review, has been saved on S3. Since we would rather work on this file locally we can perform a bit of notebook magic to copy the file to the `data_dir`."
   ]
  },
  {
   "cell_type": "code",
   "execution_count": 46,
   "metadata": {},
   "outputs": [
    {
     "name": "stdout",
     "output_type": "stream",
     "text": [
      "Completed 256.0 KiB/373.8 KiB (1.9 MiB/s) with 1 file(s) remaining\r",
      "Completed 373.8 KiB/373.8 KiB (2.8 MiB/s) with 1 file(s) remaining\r",
      "download: s3://sagemaker-us-east-2-668015539882/xgboost-200831-1923-010-93b624f4-2020-08-31-20-56-26-608/test.csv.out to ../data/xgboost/test.csv.out\r\n"
     ]
    }
   ],
   "source": [
    "!aws s3 cp --recursive $xgb_transformer.output_path $data_dir"
   ]
  },
  {
   "cell_type": "markdown",
   "metadata": {},
   "source": [
    "The last step is now to read in the output from our model, convert the output to something a little more usable, in this case we want the sentiment to be either `1` (positive) or `0` (negative), and then compare to the ground truth labels."
   ]
  },
  {
   "cell_type": "code",
   "execution_count": 47,
   "metadata": {},
   "outputs": [],
   "source": [
    "predictions = pd.read_csv(os.path.join(data_dir, 'test.csv.out'), header=None)\n",
    "predictions = [round(num) for num in predictions.squeeze().values]"
   ]
  },
  {
   "cell_type": "code",
   "execution_count": 48,
   "metadata": {},
   "outputs": [
    {
     "data": {
      "text/plain": [
       "0.86368"
      ]
     },
     "execution_count": 48,
     "metadata": {},
     "output_type": "execute_result"
    }
   ],
   "source": [
    "from sklearn.metrics import accuracy_score\n",
    "accuracy_score(test_y, predictions)"
   ]
  },
  {
   "cell_type": "markdown",
   "metadata": {},
   "source": [
    "## Optional: Clean up\n",
    "\n",
    "The default notebook instance on SageMaker doesn't have a lot of excess disk space available. As you continue to complete and execute notebooks you will eventually fill up this disk space, leading to errors which can be difficult to diagnose. Once you are completely finished using a notebook it is a good idea to remove the files that you created along the way. Of course, you can do this from the terminal or from the notebook hub if you would like. The cell below contains some commands to clean up the created files from within the notebook."
   ]
  },
  {
   "cell_type": "code",
   "execution_count": 50,
   "metadata": {},
   "outputs": [
    {
     "name": "stdout",
     "output_type": "stream",
     "text": [
      "rm: cannot remove ‘../data/xgboost/*’: No such file or directory\n",
      "rmdir: failed to remove ‘../data/xgboost’: No such file or directory\n",
      "rm: cannot remove ‘../cache/sentiment_analysis/*’: No such file or directory\n",
      "rmdir: failed to remove ‘../cache/sentiment_analysis’: No such file or directory\n"
     ]
    }
   ],
   "source": [
    "# First we will remove all of the files contained in the data_dir directory\n",
    "!rm $data_dir/*\n",
    "\n",
    "# And then we delete the directory itself\n",
    "!rmdir $data_dir\n",
    "\n",
    "# Similarly we will remove the files in the cache_dir directory and the directory itself\n",
    "!rm $cache_dir/*\n",
    "!rmdir $cache_dir"
   ]
  }
 ],
 "metadata": {
  "kernelspec": {
   "display_name": "conda_python3",
   "language": "python",
   "name": "conda_python3"
  },
  "language_info": {
   "codemirror_mode": {
    "name": "ipython",
    "version": 3
   },
   "file_extension": ".py",
   "mimetype": "text/x-python",
   "name": "python",
   "nbconvert_exporter": "python",
   "pygments_lexer": "ipython3",
   "version": "3.6.10"
  }
 },
 "nbformat": 4,
 "nbformat_minor": 2
}
